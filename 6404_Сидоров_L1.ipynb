{
  "nbformat": 4,
  "nbformat_minor": 0,
  "metadata": {
    "colab": {
      "provenance": []
    },
    "kernelspec": {
      "name": "python3",
      "display_name": "Python 3"
    },
    "language_info": {
      "name": "python"
    }
  },
  "cells": [
    {
      "cell_type": "markdown",
      "source": [
        "# Развертывание Spark"
      ],
      "metadata": {
        "id": "ORXArRi0-BVc"
      }
    },
    {
      "cell_type": "code",
      "execution_count": 2,
      "metadata": {
        "id": "2LwzZDrA9421"
      },
      "outputs": [],
      "source": [
        "!apt-get install openjdk-8-jdk-headless -qq > /dev/null\n",
        "!wget -q http://archive.apache.org/dist/spark/spark-3.5.5/spark-3.5.5-bin-hadoop3.tgz\n",
        "!tar xf spark-3.5.5-bin-hadoop3.tgz"
      ]
    },
    {
      "cell_type": "code",
      "source": [
        "import os\n",
        "os.environ[\"JAVA_HOME\"] = \"/usr/lib/jvm/java-8-openjdk-amd64\"\n",
        "os.environ[\"SPARK_HOME\"] = \"/content/spark-3.5.5-bin-hadoop3\"\n",
        "\n",
        "!pip install findspark\n",
        "import findspark\n",
        "findspark.init()"
      ],
      "metadata": {
        "colab": {
          "base_uri": "https://localhost:8080/"
        },
        "id": "lyu1QhyW-h-g",
        "outputId": "9bd0da60-9c8d-467f-ebf0-f2625191f155"
      },
      "execution_count": 3,
      "outputs": [
        {
          "output_type": "stream",
          "name": "stdout",
          "text": [
            "Collecting findspark\n",
            "  Downloading findspark-2.0.1-py2.py3-none-any.whl.metadata (352 bytes)\n",
            "Downloading findspark-2.0.1-py2.py3-none-any.whl (4.4 kB)\n",
            "Installing collected packages: findspark\n",
            "Successfully installed findspark-2.0.1\n"
          ]
        }
      ]
    },
    {
      "cell_type": "code",
      "source": [
        "import os\n",
        "from pyspark import SparkContext, SparkConf\n",
        "import pyspark.sql as sql\n",
        "from pyspark.sql import SparkSession\n",
        "from pyspark.sql.types import DoubleType\n",
        "from pyspark.sql.functions import udf, col, max, sum, countDistinct\n",
        "\n",
        "spark = SparkSession.builder.appName('ЛР1_Сидоров_6404').getOrCreate()\n",
        "trips_path = os.path.join('trips.csv')\n",
        "stations_path = os.path.join('stations.csv')\n",
        "\n",
        "trip_data = spark.read.option(\"header\", True).option(\"inferSchema\", True).option(\"timestampFormat\", 'M/d/y H:m').csv(trips_path)\n",
        "print(\"Trips\")\n",
        "trip_data.printSchema()\n",
        "\n",
        "stations_data = spark.read.option(\"header\", True).option(\"inferSchema\", True).option(\"timestampFormat\", 'M/d/y H:m').csv(stations_path)\n",
        "print(\"Stations\")\n",
        "stations_data.printSchema()"
      ],
      "metadata": {
        "colab": {
          "base_uri": "https://localhost:8080/"
        },
        "id": "8NKqWRl--ueb",
        "outputId": "bb554222-96ea-4c3c-bcf8-2322376daa2a"
      },
      "execution_count": 5,
      "outputs": [
        {
          "output_type": "stream",
          "name": "stdout",
          "text": [
            "Trips\n",
            "root\n",
            " |-- id: integer (nullable = true)\n",
            " |-- duration: integer (nullable = true)\n",
            " |-- start_date: timestamp (nullable = true)\n",
            " |-- start_station_name: string (nullable = true)\n",
            " |-- start_station_id: integer (nullable = true)\n",
            " |-- end_date: timestamp (nullable = true)\n",
            " |-- end_station_name: string (nullable = true)\n",
            " |-- end_station_id: integer (nullable = true)\n",
            " |-- bike_id: integer (nullable = true)\n",
            " |-- subscription_type: string (nullable = true)\n",
            " |-- zip_code: string (nullable = true)\n",
            "\n",
            "Stations\n",
            "root\n",
            " |-- id: integer (nullable = true)\n",
            " |-- name: string (nullable = true)\n",
            " |-- lat: double (nullable = true)\n",
            " |-- long: double (nullable = true)\n",
            " |-- dock_count: integer (nullable = true)\n",
            " |-- city: string (nullable = true)\n",
            " |-- installation_date: string (nullable = true)\n",
            "\n"
          ]
        }
      ]
    },
    {
      "cell_type": "markdown",
      "source": [
        "# Решите следующие задачи для данных велопарковок Сан-Франциско (trips.csv, stations.csv):\n",
        "1. Найти велосипед с максимальным временем пробега.\n",
        "2. Найти наибольшее геодезическое расстояние между станциями.\n",
        "3. Найти путь велосипеда с максимальным временем пробега через станции.\n",
        "4. Найти количество велосипедов в системе.\n",
        "5. Найти пользователей потративших на поездки более 3 часов."
      ],
      "metadata": {
        "id": "JMZz6HQTAYYC"
      }
    },
    {
      "cell_type": "markdown",
      "source": [
        "## Задание 1"
      ],
      "metadata": {
        "id": "ZdDGbQI3AiGX"
      }
    },
    {
      "cell_type": "code",
      "source": [
        "# Группируем по ID велосипеда, затем суммируем время пробега по велосипедам\n",
        "# Сортируем по убыванию суммы и берем первый в этом списке\n",
        "\n",
        "result = trip_data.groupBy('bike_id').agg(sum(col('duration')).alias('duration_sum')).orderBy(col('duration_sum').desc()).first()\n",
        "print(f'Велосипед: {result[\"bike_id\"]}. Время пробега: {result[\"duration_sum\"]}')"
      ],
      "metadata": {
        "colab": {
          "base_uri": "https://localhost:8080/"
        },
        "id": "vHRRqzivAefi",
        "outputId": "1fb7f03a-df21-4b6b-98a9-6663a407a77a"
      },
      "execution_count": 6,
      "outputs": [
        {
          "output_type": "stream",
          "name": "stdout",
          "text": [
            "Велосипед: 535. Время пробега: 18611693\n"
          ]
        }
      ]
    },
    {
      "cell_type": "markdown",
      "source": [
        "## Задание 2"
      ],
      "metadata": {
        "id": "y085PyAjBXBj"
      }
    },
    {
      "cell_type": "code",
      "source": [
        "import math\n",
        "\n",
        "\n",
        "def geodesic_distance(lat1, lon1, lat2, lon2):\n",
        "    R = 6371.0 # Радиус Земли (км)\n",
        "    lat1, lat2 = math.radians(lat1),  math.radians(lat2)\n",
        "\n",
        "    delta_lon = math.radians(lon2 - lon1)\n",
        "    delta_lat = lat2 - lat1\n",
        "\n",
        "    # Вычисление геодезического расстояния по формуле Хаверсина\n",
        "    a = math.sin(delta_lat / 2) ** 2 + math.cos(lat1) * math.cos(lat2) * math.sin(delta_lon / 2) ** 2\n",
        "    c = 2 * math.atan2(math.sqrt(a), math.sqrt(1 - a))\n",
        "    distance = R * c\n",
        "    return distance\n",
        "\n",
        "\n",
        "# Создаем пользовательскую функцию в Spark\n",
        "geodesic_distance_udf = udf(geodesic_distance, DoubleType())\n",
        "\n",
        "# Делаем декартово пересечение\n",
        "station_pairs = stations_data.alias('station1').crossJoin(stations_data.alias('station2'))\n",
        "\n",
        "# Вычисляем расстояние между каждой парой станций\n",
        "station_pairs_with_distance = station_pairs.withColumn(\n",
        "    'geodesic_distance',\n",
        "    geodesic_distance_udf(\n",
        "        col('station1.lat'),\n",
        "        col('station1.long'),\n",
        "        col('station2.lat'),\n",
        "        col('station2.long')\n",
        "    )\n",
        ")\n",
        "\n",
        "# Берем пару с наибольшим расстоянием\n",
        "max_distance_stations = station_pairs_with_distance.sort('geodesic_distance', ascending=False).first()\n",
        "\n",
        "# Нужно понять где начинается вторая станция в выборке\n",
        "pair_step = len(stations_data.columns)\n",
        "first_station = max_distance_stations[max_distance_stations.index(max_distance_stations['name'])]\n",
        "second_station = max_distance_stations[max_distance_stations.index(max_distance_stations['name']) + pair_step]\n",
        "\n",
        "print(f'Максимальное геодезическое расстояние между станциями равно {max_distance_stations[\"geodesic_distance\"]} километрам между станциями {first_station} и {second_station}')\n"
      ],
      "metadata": {
        "colab": {
          "base_uri": "https://localhost:8080/"
        },
        "id": "s0Ey3tBkBYxG",
        "outputId": "d6c2a2cb-2543-4d7f-c16a-799a2b7be5f2"
      },
      "execution_count": 7,
      "outputs": [
        {
          "output_type": "stream",
          "name": "stdout",
          "text": [
            "Максимальное геодезическое расстояние между станциями равно 69.92087595428244 километрам между станциями SJSU - San Salvador at 9th и Embarcadero at Sansome\n"
          ]
        }
      ]
    },
    {
      "cell_type": "markdown",
      "source": [
        "## Задание 3"
      ],
      "metadata": {
        "id": "_JdcAlh0Ed2F"
      }
    },
    {
      "cell_type": "code",
      "source": [
        "# Поездка с максимальным временем пробега\n",
        "longest_trip = trip_data.sort('duration', ascending=False).first()\n",
        "print(f'Максимальный путь: ({longest_trip[\"duration\"]}). Велосипед: {longest_trip[\"bike_id\"]}. {longest_trip[\"start_station_name\"]} - {longest_trip[\"end_station_name\"]}')"
      ],
      "metadata": {
        "colab": {
          "base_uri": "https://localhost:8080/"
        },
        "id": "dACj1Q8uEdnD",
        "outputId": "ff6a171e-18e3-404e-b624-5c1d34d0f2d4"
      },
      "execution_count": 8,
      "outputs": [
        {
          "output_type": "stream",
          "name": "stdout",
          "text": [
            "Максимальный путь: (17270400). Велосипед: 535. South Van Ness at Market - 2nd at Folsom\n"
          ]
        }
      ]
    },
    {
      "cell_type": "markdown",
      "source": [
        "## Задание 4"
      ],
      "metadata": {
        "id": "u1rzzELbFMUQ"
      }
    },
    {
      "cell_type": "code",
      "source": [
        "# countDistinct считает уникальные значения\n",
        "bikes_count = trip_data.select(countDistinct('bike_id')).first()[0]\n",
        "print(f'Количество велосипедов в системе: {bikes_count}')"
      ],
      "metadata": {
        "colab": {
          "base_uri": "https://localhost:8080/"
        },
        "id": "noGxv6D8FMy6",
        "outputId": "0d27af7f-5448-4f97-f976-77f518cc3d24"
      },
      "execution_count": 9,
      "outputs": [
        {
          "output_type": "stream",
          "name": "stdout",
          "text": [
            "Количество велосипедов в системе: 700\n"
          ]
        }
      ]
    },
    {
      "cell_type": "markdown",
      "source": [
        "## Задание 5"
      ],
      "metadata": {
        "id": "rSz7B7SVFNCm"
      }
    },
    {
      "cell_type": "code",
      "source": [
        "strong_users = trip_data.groupBy('bike_id').agg(sum(col('duration')).alias('duration_sum')).filter(col('duration_sum') > 3 * 60 * 60).orderBy(col('bike_id'))\n",
        "strong_users.show()"
      ],
      "metadata": {
        "colab": {
          "base_uri": "https://localhost:8080/"
        },
        "id": "6wYtbqkWFNSG",
        "outputId": "990dd68d-e2d9-474e-ac37-7045ff2f8ced"
      },
      "execution_count": 10,
      "outputs": [
        {
          "output_type": "stream",
          "name": "stdout",
          "text": [
            "+-------+------------+\n",
            "|bike_id|duration_sum|\n",
            "+-------+------------+\n",
            "|      9|      913730|\n",
            "|     10|      551314|\n",
            "|     11|      315011|\n",
            "|     12|      757912|\n",
            "|     13|      949523|\n",
            "|     14|      399114|\n",
            "|     15|      831149|\n",
            "|     16|     1334601|\n",
            "|     17|      509406|\n",
            "|     18|      500113|\n",
            "|     19|      543930|\n",
            "|     20|      263431|\n",
            "|     21|      282836|\n",
            "|     22|      936581|\n",
            "|     23|      420393|\n",
            "|     24|      293533|\n",
            "|     25|      453322|\n",
            "|     26|      236064|\n",
            "|     27|      404937|\n",
            "|     28|      342587|\n",
            "+-------+------------+\n",
            "only showing top 20 rows\n",
            "\n"
          ]
        }
      ]
    }
  ]
}