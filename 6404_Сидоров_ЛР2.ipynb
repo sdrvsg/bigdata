{
  "nbformat": 4,
  "nbformat_minor": 0,
  "metadata": {
    "colab": {
      "provenance": []
    },
    "kernelspec": {
      "name": "python3",
      "display_name": "Python 3"
    },
    "language_info": {
      "name": "python"
    }
  },
  "cells": [
    {
      "cell_type": "markdown",
      "source": [
        "### Развертывание Spark"
      ],
      "metadata": {
        "id": "dLpfKjYMsSz7"
      }
    },
    {
      "cell_type": "code",
      "execution_count": null,
      "metadata": {
        "id": "CPLZflf-pz6D"
      },
      "outputs": [],
      "source": [
        "!apt-get install openjdk-8-jdk-headless -qq > /dev/null\n",
        "!wget -q http://archive.apache.org/dist/spark/spark-3.5.5/spark-3.5.5-bin-hadoop3.tgz\n",
        "!tar xf spark-3.5.5-bin-hadoop3.tgz\n",
        "!pip install -q findspark"
      ]
    },
    {
      "cell_type": "code",
      "source": [
        "import os\n",
        "from pyspark import SparkContext, SparkConf\n",
        "from typing import NamedTuple\n",
        "from datetime import datetime\n",
        "from pyspark.sql.types import ArrayType, StringType\n",
        "from pyspark.sql import functions as func\n",
        "from pyspark.sql.window import Window\n",
        "import numpy as np\n",
        "import re\n",
        "import findspark\n",
        "from pyspark.sql import SparkSession"
      ],
      "metadata": {
        "id": "z7JfXcBCrTl3"
      },
      "execution_count": null,
      "outputs": []
    },
    {
      "cell_type": "code",
      "source": [
        "findspark.init()\n",
        "\n",
        "os.environ[\"JAVA_HOME\"] = \"/usr/lib/jvm/java-8-openjdk-amd64\"\n",
        "os.environ[\"SPARK_HOME\"] = \"/content/spark-3.5.5-bin-hadoop3\""
      ],
      "metadata": {
        "id": "2E1NcWd6r2R7"
      },
      "execution_count": null,
      "outputs": []
    },
    {
      "cell_type": "code",
      "source": [
        "spark = SparkSession.builder.appName(\"Сидоров 6404 ЛР2\").config(\"spark.jars.packages\", \"com.databricks:spark-xml_2.12:0.14.0\").getOrCreate()"
      ],
      "metadata": {
        "id": "Gjj2qXV2s4p2"
      },
      "execution_count": null,
      "outputs": []
    },
    {
      "cell_type": "code",
      "source": [
        "posts_path = os.path.join('posts_sample.xml')\n",
        "languages_path = os.path.join('programming-languages.csv')"
      ],
      "metadata": {
        "id": "cGOPfZDZuCjd"
      },
      "execution_count": null,
      "outputs": []
    },
    {
      "cell_type": "markdown",
      "source": [
        "### Берем 10% данных"
      ],
      "metadata": {
        "id": "o0lJsjr2vs3h"
      }
    },
    {
      "cell_type": "code",
      "source": [
        "posts_data = spark.read.format('xml').options(rowTag='row').load(posts_path)\n",
        "posts_part = posts_data.sample(0.1)\n",
        "posts_part.printSchema()\n"
      ],
      "metadata": {
        "colab": {
          "base_uri": "https://localhost:8080/"
        },
        "id": "7MCMAG4bvZCE",
        "outputId": "43f717d1-50d0-4646-c16b-6c5b78716f3c"
      },
      "execution_count": null,
      "outputs": [
        {
          "output_type": "stream",
          "name": "stdout",
          "text": [
            "root\n",
            " |-- _AcceptedAnswerId: long (nullable = true)\n",
            " |-- _AnswerCount: long (nullable = true)\n",
            " |-- _Body: string (nullable = true)\n",
            " |-- _ClosedDate: timestamp (nullable = true)\n",
            " |-- _CommentCount: long (nullable = true)\n",
            " |-- _CommunityOwnedDate: timestamp (nullable = true)\n",
            " |-- _CreationDate: timestamp (nullable = true)\n",
            " |-- _FavoriteCount: long (nullable = true)\n",
            " |-- _Id: long (nullable = true)\n",
            " |-- _LastActivityDate: timestamp (nullable = true)\n",
            " |-- _LastEditDate: timestamp (nullable = true)\n",
            " |-- _LastEditorDisplayName: string (nullable = true)\n",
            " |-- _LastEditorUserId: long (nullable = true)\n",
            " |-- _OwnerDisplayName: string (nullable = true)\n",
            " |-- _OwnerUserId: long (nullable = true)\n",
            " |-- _ParentId: long (nullable = true)\n",
            " |-- _PostTypeId: long (nullable = true)\n",
            " |-- _Score: long (nullable = true)\n",
            " |-- _Tags: string (nullable = true)\n",
            " |-- _Title: string (nullable = true)\n",
            " |-- _ViewCount: long (nullable = true)\n",
            "\n"
          ]
        }
      ]
    },
    {
      "cell_type": "code",
      "source": [
        "languages_data = spark.read.option(\"header\", True).option(\"inferSchema\", True).option(\"timestampFormat\", 'M/d/y H:m').csv(languages_path)\n",
        "languages_data.printSchema()"
      ],
      "metadata": {
        "colab": {
          "base_uri": "https://localhost:8080/"
        },
        "id": "fFdjqPHhwy5M",
        "outputId": "c74cd500-e947-464b-dd3b-18f794516119"
      },
      "execution_count": null,
      "outputs": [
        {
          "output_type": "stream",
          "name": "stdout",
          "text": [
            "root\n",
            " |-- name: string (nullable = true)\n",
            " |-- wikipedia_url: string (nullable = true)\n",
            "\n"
          ]
        }
      ]
    },
    {
      "cell_type": "markdown",
      "source": [
        "### Выполнение задания"
      ],
      "metadata": {
        "id": "roS5Vkt-6vue"
      }
    },
    {
      "cell_type": "code",
      "source": [
        "language_names = [row.name.lower() for row in languages_data.select(\"name\").collect()]\n",
        "\n",
        "# Пользовательская функция получения ЯП из тегов\n",
        "def get_languages(tag_string):\n",
        "    if not tag_string or not isinstance(tag_string, str):\n",
        "      return []\n",
        "\n",
        "    found_tags = list(set(re.findall(r'<([^<>]+)>', tag_string)))\n",
        "    found_tags_lower = [tag.lower().strip() for tag in found_tags]\n",
        "\n",
        "    language_set = set(language_names)\n",
        "    return [tag for tag in found_tags_lower if tag in language_set]"
      ],
      "metadata": {
        "id": "xrHtlmOJ78Nw"
      },
      "execution_count": null,
      "outputs": []
    },
    {
      "cell_type": "code",
      "source": [
        "get_languages_udf = func.udf(get_languages, ArrayType(StringType()))\n",
        "\n",
        "# Добавляем к данным столбцы ЯП и года\n",
        "processed_posts = (posts_part\n",
        "                  .withColumn(\"languages\", get_languages_udf(posts_part._Tags))\n",
        "                  .withColumn(\"post_year\", func.year(posts_part._CreationDate))\n",
        "                  .select(\"post_year\", func.explode(\"languages\").alias(\"language\"), \"_ViewCount\"))\n",
        "processed_posts.printSchema()"
      ],
      "metadata": {
        "colab": {
          "base_uri": "https://localhost:8080/"
        },
        "id": "nMv7S6sJ8As9",
        "outputId": "70640030-11e1-4250-c568-90054f606225"
      },
      "execution_count": null,
      "outputs": [
        {
          "output_type": "stream",
          "name": "stdout",
          "text": [
            "root\n",
            " |-- post_year: integer (nullable = true)\n",
            " |-- language: string (nullable = true)\n",
            " |-- _ViewCount: long (nullable = true)\n",
            "\n"
          ]
        }
      ]
    },
    {
      "cell_type": "code",
      "source": [
        "# Отсеиваем по годам\n",
        "filtered_posts = processed_posts.filter((processed_posts.post_year.between(2010, 2020)))\n",
        "\n",
        "# Группируем по году и ЯПу\n",
        "language_popularity = (filtered_posts\n",
        "                      .groupBy(\"post_year\", \"language\")\n",
        "                      .agg(func.sum(\"_ViewCount\").alias(\"total_views\")))\n",
        "language_popularity.printSchema()"
      ],
      "metadata": {
        "colab": {
          "base_uri": "https://localhost:8080/"
        },
        "id": "N2YfptSw8keC",
        "outputId": "e1b8e5bf-140b-4f0e-86f0-36c49041459e"
      },
      "execution_count": null,
      "outputs": [
        {
          "output_type": "stream",
          "name": "stdout",
          "text": [
            "root\n",
            " |-- post_year: integer (nullable = true)\n",
            " |-- language: string (nullable = true)\n",
            " |-- total_views: long (nullable = true)\n",
            "\n"
          ]
        }
      ]
    },
    {
      "cell_type": "code",
      "source": [
        "ranking_spec = Window.partitionBy('post_year').orderBy(func.desc('total_views'))\n",
        "ranked_languages = language_popularity.withColumn('rank', func.dense_rank().over(ranking_spec))\n",
        "ranked_languages.printSchema()"
      ],
      "metadata": {
        "colab": {
          "base_uri": "https://localhost:8080/"
        },
        "id": "mCcwrvFi93NV",
        "outputId": "f6496650-41f8-4eae-d07e-7afcd03fcc9b"
      },
      "execution_count": null,
      "outputs": [
        {
          "output_type": "stream",
          "name": "stdout",
          "text": [
            "root\n",
            " |-- post_year: integer (nullable = true)\n",
            " |-- language: string (nullable = true)\n",
            " |-- total_views: long (nullable = true)\n",
            " |-- rank: integer (nullable = false)\n",
            "\n"
          ]
        }
      ]
    },
    {
      "cell_type": "code",
      "source": [
        "top = ranked_languages.where(ranked_languages['rank'] <= 10)\n",
        "top.write.mode('overwrite').format('parquet').save('top.parquet')\n",
        "\n",
        "saved_results = spark.read.parquet('top.parquet')\n",
        "for year in range(2010, 2021):\n",
        "    print(f\"\\n=== ТОП-10 языков программирования за {year} год ===\")\n",
        "    (saved_results\n",
        "        .filter(saved_results.post_year == year)\n",
        "        .orderBy(\"rank\")\n",
        "        .show(truncate=False))"
      ],
      "metadata": {
        "colab": {
          "base_uri": "https://localhost:8080/"
        },
        "id": "MzGWjQj7ymqf",
        "outputId": "431c6a23-18c7-43af-9524-791c4982d40c"
      },
      "execution_count": null,
      "outputs": [
        {
          "output_type": "stream",
          "name": "stdout",
          "text": [
            "\n",
            "=== ТОП-10 языков программирования за 2010 год ===\n",
            "+---------+-----------+-----------+----+\n",
            "|post_year|language   |total_views|rank|\n",
            "+---------+-----------+-----------+----+\n",
            "|2010     |java       |251465     |1   |\n",
            "|2010     |ruby       |49635      |2   |\n",
            "|2010     |applescript|30843      |3   |\n",
            "|2010     |objective-c|12440      |4   |\n",
            "|2010     |php        |10532      |5   |\n",
            "|2010     |python     |7957       |6   |\n",
            "|2010     |r          |3588       |7   |\n",
            "|2010     |scala      |3330       |8   |\n",
            "|2010     |haskell    |3000       |9   |\n",
            "|2010     |perl       |2234       |10  |\n",
            "+---------+-----------+-----------+----+\n",
            "\n",
            "\n",
            "=== ТОП-10 языков программирования за 2011 год ===\n",
            "+---------+----------+-----------+----+\n",
            "|post_year|language  |total_views|rank|\n",
            "+---------+----------+-----------+----+\n",
            "|2011     |java      |95375      |1   |\n",
            "|2011     |php       |95033      |2   |\n",
            "|2011     |bash      |29372      |3   |\n",
            "|2011     |javascript|24146      |4   |\n",
            "|2011     |python    |12987      |5   |\n",
            "|2011     |matlab    |3499       |6   |\n",
            "|2011     |c         |3124       |7   |\n",
            "|2011     |ruby      |2860       |8   |\n",
            "|2011     |abap      |2774       |9   |\n",
            "|2011     |cuda      |2428       |10  |\n",
            "+---------+----------+-----------+----+\n",
            "\n",
            "\n",
            "=== ТОП-10 языков программирования за 2012 год ===\n",
            "+---------+-----------+-----------+----+\n",
            "|post_year|language   |total_views|rank|\n",
            "+---------+-----------+-----------+----+\n",
            "|2012     |javascript |59927      |1   |\n",
            "|2012     |php        |54157      |2   |\n",
            "|2012     |java       |32370      |3   |\n",
            "|2012     |c          |12122      |4   |\n",
            "|2012     |python     |6037       |5   |\n",
            "|2012     |lua        |5939       |6   |\n",
            "|2012     |r          |3830       |7   |\n",
            "|2012     |objective-c|2587       |8   |\n",
            "|2012     |io         |2080       |9   |\n",
            "|2012     |cil        |1226       |10  |\n",
            "+---------+-----------+-----------+----+\n",
            "\n",
            "\n",
            "=== ТОП-10 языков программирования за 2013 год ===\n",
            "+---------+-----------+-----------+----+\n",
            "|post_year|language   |total_views|rank|\n",
            "+---------+-----------+-----------+----+\n",
            "|2013     |javascript |172996     |1   |\n",
            "|2013     |java       |62057      |2   |\n",
            "|2013     |php        |23359      |3   |\n",
            "|2013     |c          |12758      |4   |\n",
            "|2013     |objective-c|9212       |5   |\n",
            "|2013     |python     |8916       |6   |\n",
            "|2013     |matlab     |5148       |7   |\n",
            "|2013     |ruby       |3896       |8   |\n",
            "|2013     |r          |2202       |9   |\n",
            "|2013     |focus      |1669       |10  |\n",
            "+---------+-----------+-----------+----+\n",
            "\n",
            "\n",
            "=== ТОП-10 языков программирования за 2014 год ===\n",
            "+---------+-----------+-----------+----+\n",
            "|post_year|language   |total_views|rank|\n",
            "+---------+-----------+-----------+----+\n",
            "|2014     |java       |102206     |1   |\n",
            "|2014     |javascript |40594      |2   |\n",
            "|2014     |python     |29174      |3   |\n",
            "|2014     |php        |14826      |4   |\n",
            "|2014     |c          |3326       |5   |\n",
            "|2014     |perl       |3256       |6   |\n",
            "|2014     |mouse      |2500       |7   |\n",
            "|2014     |matlab     |895        |8   |\n",
            "|2014     |objective-c|531        |9   |\n",
            "|2014     |ruby       |460        |10  |\n",
            "+---------+-----------+-----------+----+\n",
            "\n",
            "\n",
            "=== ТОП-10 языков программирования за 2015 год ===\n",
            "+---------+------------+-----------+----+\n",
            "|post_year|language    |total_views|rank|\n",
            "+---------+------------+-----------+----+\n",
            "|2015     |javascript  |35669      |1   |\n",
            "|2015     |java        |20355      |2   |\n",
            "|2015     |php         |16170      |3   |\n",
            "|2015     |objective-c |4282       |4   |\n",
            "|2015     |c           |3958       |5   |\n",
            "|2015     |r           |2384       |6   |\n",
            "|2015     |python      |2201       |7   |\n",
            "|2015     |coffeescript|1469       |8   |\n",
            "|2015     |lua         |1443       |9   |\n",
            "|2015     |delphi      |1357       |10  |\n",
            "+---------+------------+-----------+----+\n",
            "\n",
            "\n",
            "=== ТОП-10 языков программирования за 2016 год ===\n",
            "+---------+----------+-----------+----+\n",
            "|post_year|language  |total_views|rank|\n",
            "+---------+----------+-----------+----+\n",
            "|2016     |javascript|34244      |1   |\n",
            "|2016     |python    |15030      |2   |\n",
            "|2016     |java      |13943      |3   |\n",
            "|2016     |php       |10159      |4   |\n",
            "|2016     |c         |7663       |5   |\n",
            "|2016     |r         |6400       |6   |\n",
            "|2016     |bash      |2262       |7   |\n",
            "|2016     |go        |1987       |8   |\n",
            "|2016     |chef      |1592       |9   |\n",
            "|2016     |curl      |1062       |10  |\n",
            "+---------+----------+-----------+----+\n",
            "\n",
            "\n",
            "=== ТОП-10 языков программирования за 2017 год ===\n",
            "+---------+-----------+-----------+----+\n",
            "|post_year|language   |total_views|rank|\n",
            "+---------+-----------+-----------+----+\n",
            "|2017     |python     |9307       |1   |\n",
            "|2017     |javascript |6387       |2   |\n",
            "|2017     |java       |4581       |3   |\n",
            "|2017     |typescript |4545       |4   |\n",
            "|2017     |php        |3748       |5   |\n",
            "|2017     |objective-c|633        |6   |\n",
            "|2017     |r          |431        |7   |\n",
            "|2017     |bash       |416        |8   |\n",
            "|2017     |groovy     |351        |9   |\n",
            "|2017     |ruby       |308        |10  |\n",
            "|2017     |nsis       |308        |10  |\n",
            "+---------+-----------+-----------+----+\n",
            "\n",
            "\n",
            "=== ТОП-10 языков программирования за 2018 год ===\n",
            "+---------+----------+-----------+----+\n",
            "|post_year|language  |total_views|rank|\n",
            "+---------+----------+-----------+----+\n",
            "|2018     |python    |13416      |1   |\n",
            "|2018     |javascript|9538       |2   |\n",
            "|2018     |java      |3014       |3   |\n",
            "|2018     |r         |2406       |4   |\n",
            "|2018     |go        |1505       |5   |\n",
            "|2018     |bash      |1063       |6   |\n",
            "|2018     |powershell|1055       |7   |\n",
            "|2018     |scala     |707        |8   |\n",
            "|2018     |php       |636        |9   |\n",
            "|2018     |kotlin    |479        |10  |\n",
            "+---------+----------+-----------+----+\n",
            "\n",
            "\n",
            "=== ТОП-10 языков программирования за 2019 год ===\n",
            "+---------+----------+-----------+----+\n",
            "|post_year|language  |total_views|rank|\n",
            "+---------+----------+-----------+----+\n",
            "|2019     |javascript|1251       |1   |\n",
            "|2019     |python    |892        |2   |\n",
            "|2019     |php       |648        |3   |\n",
            "|2019     |java      |589        |4   |\n",
            "|2019     |typescript|423        |5   |\n",
            "|2019     |powershell|408        |6   |\n",
            "|2019     |bash      |330        |7   |\n",
            "|2019     |dart      |287        |8   |\n",
            "|2019     |awk       |163        |9   |\n",
            "|2019     |ruby      |64         |10  |\n",
            "+---------+----------+-----------+----+\n",
            "\n",
            "\n",
            "=== ТОП-10 языков программирования за 2020 год ===\n",
            "+---------+--------+-----------+----+\n",
            "|post_year|language|total_views|rank|\n",
            "+---------+--------+-----------+----+\n",
            "+---------+--------+-----------+----+\n",
            "\n"
          ]
        }
      ]
    },
    {
      "cell_type": "code",
      "source": [],
      "metadata": {
        "colab": {
          "base_uri": "https://localhost:8080/"
        },
        "id": "HX1gBE7s3Uol",
        "outputId": "c246a36f-d408-493e-8ff8-e304dc9e4cda"
      },
      "execution_count": null,
      "outputs": [
        {
          "output_type": "stream",
          "name": "stdout",
          "text": [
            "698\n"
          ]
        }
      ]
    }
  ]
}