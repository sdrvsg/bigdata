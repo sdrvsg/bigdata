{
 "nbformat": 4,
 "nbformat_minor": 0,
 "metadata": {
  "colab": {
   "provenance": []
  },
  "kernelspec": {
   "name": "python3",
   "display_name": "Python 3 (ipykernel)",
   "language": "python"
  }
 },
 "cells": [
  {
   "cell_type": "markdown",
   "metadata": {
    "id": "82OvPKEiEqjc"
   },
   "source": [
    "# Введение в MapReduce модель на Python\n"
   ]
  },
  {
   "cell_type": "code",
   "metadata": {
    "id": "JQ2cvXLjICmI",
    "ExecuteTime": {
     "end_time": "2025-02-26T16:56:33.145820Z",
     "start_time": "2025-02-26T16:56:33.141952Z"
    }
   },
   "source": [
    "\n",
    "from typing import Iterator\n",
    "from typing import NamedTuple  # requires python 3.6+"
   ],
   "outputs": [],
   "execution_count": 183
  },
  {
   "cell_type": "code",
   "metadata": {
    "id": "yjPHumVwEyEg",
    "ExecuteTime": {
     "end_time": "2025-02-26T16:56:33.177671Z",
     "start_time": "2025-02-26T16:56:33.173383Z"
    }
   },
   "source": [
    "def MAP(_, row: NamedTuple):\n",
    "    if (row.gender == 'female'):\n",
    "        yield (row.age, row)\n",
    "\n",
    "\n",
    "def REDUCE(age: str, rows: Iterator[NamedTuple]):\n",
    "    sum = 0\n",
    "    count = 0\n",
    "    for row in rows:\n",
    "        sum += row.social_contacts\n",
    "        count += 1\n",
    "    if (count > 0):\n",
    "        yield (age, sum / count)\n",
    "    else:\n",
    "        yield (age, 0)"
   ],
   "outputs": [],
   "execution_count": 184
  },
  {
   "cell_type": "markdown",
   "metadata": {
    "id": "vBKMgpG_ilaZ"
   },
   "source": [
    "Модель элемента данных"
   ]
  },
  {
   "cell_type": "code",
   "metadata": {
    "id": "Rv-XIjhTJPx3",
    "ExecuteTime": {
     "end_time": "2025-02-26T16:56:33.193616Z",
     "start_time": "2025-02-26T16:56:33.189954Z"
    }
   },
   "source": [
    "class User(NamedTuple):\n",
    "    id: int\n",
    "    age: int\n",
    "    social_contacts: int\n",
    "    gender: str"
   ],
   "outputs": [],
   "execution_count": 185
  },
  {
   "cell_type": "code",
   "metadata": {
    "id": "5KV0Ze2vQgu5",
    "ExecuteTime": {
     "end_time": "2025-02-26T16:56:33.210527Z",
     "start_time": "2025-02-26T16:56:33.206204Z"
    }
   },
   "source": [
    "input_collection = [\n",
    "    User(id=0, age=55, gender='male', social_contacts=20),\n",
    "    User(id=1, age=25, gender='female', social_contacts=240),\n",
    "    User(id=2, age=25, gender='female', social_contacts=500),\n",
    "    User(id=3, age=33, gender='female', social_contacts=800)\n",
    "]"
   ],
   "outputs": [],
   "execution_count": 186
  },
  {
   "cell_type": "markdown",
   "metadata": {
    "id": "YFeqzyZxZIFZ"
   },
   "source": [
    "Функция RECORDREADER моделирует чтение элементов с диска или по сети."
   ]
  },
  {
   "cell_type": "code",
   "metadata": {
    "id": "S5HR4E_GQoMJ",
    "ExecuteTime": {
     "end_time": "2025-02-26T16:56:33.226878Z",
     "start_time": "2025-02-26T16:56:33.222909Z"
    }
   },
   "source": [
    "def RECORDREADER():\n",
    "    return [(u.id, u) for u in input_collection]"
   ],
   "outputs": [],
   "execution_count": 187
  },
  {
   "cell_type": "code",
   "metadata": {
    "id": "NeEoWla-ROUy",
    "colab": {
     "base_uri": "https://localhost:8080/"
    },
    "outputId": "3a90e497-fdfb-4084-8983-5b24a732178f",
    "ExecuteTime": {
     "end_time": "2025-02-26T16:56:33.247029Z",
     "start_time": "2025-02-26T16:56:33.241387Z"
    }
   },
   "source": [
    "list(RECORDREADER())"
   ],
   "outputs": [
    {
     "data": {
      "text/plain": [
       "[(0, User(id=0, age=55, social_contacts=20, gender='male')),\n",
       " (1, User(id=1, age=25, social_contacts=240, gender='female')),\n",
       " (2, User(id=2, age=25, social_contacts=500, gender='female')),\n",
       " (3, User(id=3, age=33, social_contacts=800, gender='female'))]"
      ]
     },
     "execution_count": 188,
     "metadata": {},
     "output_type": "execute_result"
    }
   ],
   "execution_count": 188
  },
  {
   "cell_type": "code",
   "metadata": {
    "id": "YB8orgPSZs8M",
    "ExecuteTime": {
     "end_time": "2025-02-26T16:56:33.309157Z",
     "start_time": "2025-02-26T16:56:33.303237Z"
    }
   },
   "source": [
    "def flatten(nested_iterable):\n",
    "    for iterable in nested_iterable:\n",
    "        for element in iterable:\n",
    "            yield element"
   ],
   "outputs": [],
   "execution_count": 189
  },
  {
   "cell_type": "code",
   "metadata": {
    "id": "74oyvDLaRmd5",
    "colab": {
     "base_uri": "https://localhost:8080/"
    },
    "outputId": "a79f7681-924e-4847-dae4-65d87a7d724b",
    "ExecuteTime": {
     "end_time": "2025-02-26T16:56:33.349406Z",
     "start_time": "2025-02-26T16:56:33.343689Z"
    }
   },
   "source": [
    "map_output = flatten(map(lambda x: MAP(*x), RECORDREADER()))\n",
    "map_output = list(map_output)  # materialize\n",
    "map_output"
   ],
   "outputs": [
    {
     "data": {
      "text/plain": [
       "[(25, User(id=1, age=25, social_contacts=240, gender='female')),\n",
       " (25, User(id=2, age=25, social_contacts=500, gender='female')),\n",
       " (33, User(id=3, age=33, social_contacts=800, gender='female'))]"
      ]
     },
     "execution_count": 190,
     "metadata": {},
     "output_type": "execute_result"
    }
   ],
   "execution_count": 190
  },
  {
   "cell_type": "code",
   "metadata": {
    "id": "8ncYDJ3-VzDn",
    "ExecuteTime": {
     "end_time": "2025-02-26T16:56:33.405477Z",
     "start_time": "2025-02-26T16:56:33.400615Z"
    }
   },
   "source": [
    "def groupbykey(iterable):\n",
    "    t = {}\n",
    "    for (k2, v2) in iterable:\n",
    "        t[k2] = t.get(k2, []) + [v2]\n",
    "    return t.items()"
   ],
   "outputs": [],
   "execution_count": 191
  },
  {
   "cell_type": "code",
   "metadata": {
    "id": "cKzY_6COWOA2",
    "colab": {
     "base_uri": "https://localhost:8080/"
    },
    "outputId": "fc06db57-a5c6-456d-e023-0084abb79f05",
    "ExecuteTime": {
     "end_time": "2025-02-26T16:56:33.435142Z",
     "start_time": "2025-02-26T16:56:33.428651Z"
    }
   },
   "source": [
    "shuffle_output = groupbykey(map_output)\n",
    "shuffle_output = list(shuffle_output)\n",
    "shuffle_output"
   ],
   "outputs": [
    {
     "data": {
      "text/plain": [
       "[(25,\n",
       "  [User(id=1, age=25, social_contacts=240, gender='female'),\n",
       "   User(id=2, age=25, social_contacts=500, gender='female')]),\n",
       " (33, [User(id=3, age=33, social_contacts=800, gender='female')])]"
      ]
     },
     "execution_count": 192,
     "metadata": {},
     "output_type": "execute_result"
    }
   ],
   "execution_count": 192
  },
  {
   "cell_type": "code",
   "metadata": {
    "id": "NlA7lkDDYL0t",
    "colab": {
     "base_uri": "https://localhost:8080/"
    },
    "outputId": "963c961c-0913-44b0-9f7a-8f92dffac209",
    "ExecuteTime": {
     "end_time": "2025-02-26T16:56:33.483310Z",
     "start_time": "2025-02-26T16:56:33.476819Z"
    }
   },
   "source": [
    "reduce_output = flatten(map(lambda x: REDUCE(*x), shuffle_output))\n",
    "reduce_output = list(reduce_output)\n",
    "reduce_output"
   ],
   "outputs": [
    {
     "data": {
      "text/plain": [
       "[(25, 370.0), (33, 800.0)]"
      ]
     },
     "execution_count": 193,
     "metadata": {},
     "output_type": "execute_result"
    }
   ],
   "execution_count": 193
  },
  {
   "cell_type": "markdown",
   "metadata": {
    "id": "xf6qhHEtd6bI"
   },
   "source": [
    "Все действия одним конвейером!"
   ]
  },
  {
   "cell_type": "code",
   "metadata": {
    "id": "dZaQGYxCdpw5",
    "colab": {
     "base_uri": "https://localhost:8080/"
    },
    "outputId": "4cc6bd2e-b4f1-4d98-dbaf-6ed40b6da724",
    "ExecuteTime": {
     "end_time": "2025-02-26T16:56:33.540634Z",
     "start_time": "2025-02-26T16:56:33.534614Z"
    }
   },
   "source": [
    "list(flatten(map(lambda x: REDUCE(*x), groupbykey(flatten(map(lambda x: MAP(*x), RECORDREADER()))))))"
   ],
   "outputs": [
    {
     "data": {
      "text/plain": [
       "[(25, 370.0), (33, 800.0)]"
      ]
     },
     "execution_count": 194,
     "metadata": {},
     "output_type": "execute_result"
    }
   ],
   "execution_count": 194
  },
  {
   "cell_type": "markdown",
   "metadata": {
    "id": "Vq3EWRIpwSiJ"
   },
   "source": [
    "# **MapReduce**\n",
    "Выделим общую для всех пользователей часть системы в отдельную функцию высшего порядка. Это наиболее простая модель MapReduce, без учёта распределённого хранения данных.\n",
    "\n",
    "Пользователь для решения своей задачи реализует RECORDREADER, MAP, REDUCE."
   ]
  },
  {
   "cell_type": "code",
   "metadata": {
    "id": "V1PZeQMwwVjc",
    "ExecuteTime": {
     "end_time": "2025-02-26T16:56:33.579914Z",
     "start_time": "2025-02-26T16:56:33.573939Z"
    }
   },
   "source": [
    "def flatten(nested_iterable):\n",
    "    for iterable in nested_iterable:\n",
    "        for element in iterable:\n",
    "            yield element\n",
    "\n",
    "\n",
    "def groupbykey(iterable):\n",
    "    t = {}\n",
    "    for (k2, v2) in iterable:\n",
    "        t[k2] = t.get(k2, []) + [v2]\n",
    "    return t.items()\n",
    "\n",
    "\n",
    "def MapReduce(RECORDREADER, MAP, REDUCE):\n",
    "    return flatten(map(lambda x: REDUCE(*x), groupbykey(flatten(map(lambda x: MAP(*x), RECORDREADER())))))"
   ],
   "outputs": [],
   "execution_count": 195
  },
  {
   "cell_type": "markdown",
   "metadata": {
    "id": "iFIVrimep678"
   },
   "source": [
    "## Спецификация MapReduce\n",
    "\n",
    "\n",
    "\n",
    "```\n",
    "f (k1, v1) -> (k2,v2)*\n",
    "g (k2, v2*) -> (k3,v3)*\n",
    "\n",
    "mapreduce ((k1,v1)*) -> (k3,v3)*\n",
    "groupby ((k2,v2)*) -> (k2,v2*)*\n",
    "flatten (e2**) -> e2*\n",
    "\n",
    "mapreduce .map(f).flatten.groupby(k2).map(g).flatten\n",
    "```\n",
    "\n",
    "\n"
   ]
  },
  {
   "cell_type": "markdown",
   "metadata": {
    "id": "QtTFyqke3KGe"
   },
   "source": [
    "# Примеры"
   ]
  },
  {
   "cell_type": "markdown",
   "metadata": {
    "id": "BNhh5763w5Vn"
   },
   "source": [
    "## SQL"
   ]
  },
  {
   "cell_type": "code",
   "metadata": {
    "id": "QkyurnvGxBGk",
    "colab": {
     "base_uri": "https://localhost:8080/"
    },
    "outputId": "8923fac1-4a1e-4d99-eddd-6e2854b02c37",
    "ExecuteTime": {
     "end_time": "2025-02-26T16:56:33.619073Z",
     "start_time": "2025-02-26T16:56:33.606164Z"
    }
   },
   "source": [
    "from typing import NamedTuple  # requires python 3.6+\n",
    "from typing import Iterator\n",
    "\n",
    "\n",
    "class User(NamedTuple):\n",
    "    id: int\n",
    "    age: str\n",
    "    social_contacts: int\n",
    "    gender: str\n",
    "\n",
    "\n",
    "input_collection = [\n",
    "    User(id=0, age=55, gender='male', social_contacts=20),\n",
    "    User(id=1, age=25, gender='female', social_contacts=240),\n",
    "    User(id=2, age=25, gender='female', social_contacts=500),\n",
    "    User(id=3, age=33, gender='female', social_contacts=800)\n",
    "]\n",
    "\n",
    "\n",
    "def MAP(_, row: NamedTuple):\n",
    "    if (row.gender == 'female'):\n",
    "        yield (row.age, row)\n",
    "\n",
    "\n",
    "def REDUCE(age: str, rows: Iterator[NamedTuple]):\n",
    "    sum = 0\n",
    "    count = 0\n",
    "    for row in rows:\n",
    "        sum += row.social_contacts\n",
    "        count += 1\n",
    "    if (count > 0):\n",
    "        yield (age, sum / count)\n",
    "    else:\n",
    "        yield (age, 0)\n",
    "\n",
    "\n",
    "def RECORDREADER():\n",
    "    return [(u.id, u) for u in input_collection]\n",
    "\n",
    "\n",
    "output = MapReduce(RECORDREADER, MAP, REDUCE)\n",
    "output = list(output)\n",
    "output"
   ],
   "outputs": [
    {
     "data": {
      "text/plain": [
       "[(25, 370.0), (33, 800.0)]"
      ]
     },
     "execution_count": 196,
     "metadata": {},
     "output_type": "execute_result"
    }
   ],
   "execution_count": 196
  },
  {
   "cell_type": "markdown",
   "metadata": {
    "id": "kNKYIeerx0nY"
   },
   "source": [
    "## Matrix-Vector multiplication"
   ]
  },
  {
   "cell_type": "code",
   "metadata": {
    "id": "rwcntRcCyi1V",
    "colab": {
     "base_uri": "https://localhost:8080/"
    },
    "outputId": "10f7cdf8-27d4-428d-bc5c-a55990ed21b8",
    "ExecuteTime": {
     "end_time": "2025-02-26T16:56:33.667372Z",
     "start_time": "2025-02-26T16:56:33.659744Z"
    }
   },
   "source": [
    "from typing import Iterator\n",
    "import numpy as np\n",
    "\n",
    "mat = np.ones((5, 4))\n",
    "vec = np.random.rand(4)  # in-memory vector in all map tasks\n",
    "\n",
    "\n",
    "def MAP(coordinates: (int, int), value: int):\n",
    "    i, j = coordinates\n",
    "    yield (i, value * vec[j])\n",
    "\n",
    "\n",
    "def REDUCE(i: int, products: Iterator[NamedTuple]):\n",
    "    sum = 0\n",
    "    for p in products:\n",
    "        sum += p\n",
    "    yield (i, sum)\n",
    "\n",
    "\n",
    "def RECORDREADER():\n",
    "    for i in range(mat.shape[0]):\n",
    "        for j in range(mat.shape[1]):\n",
    "            yield ((i, j), mat[i, j])\n",
    "\n",
    "\n",
    "output = MapReduce(RECORDREADER, MAP, REDUCE)\n",
    "output = list(output)\n",
    "output"
   ],
   "outputs": [
    {
     "data": {
      "text/plain": [
       "[(0, np.float64(2.519736733898636)),\n",
       " (1, np.float64(2.519736733898636)),\n",
       " (2, np.float64(2.519736733898636)),\n",
       " (3, np.float64(2.519736733898636)),\n",
       " (4, np.float64(2.519736733898636))]"
      ]
     },
     "execution_count": 197,
     "metadata": {},
     "output_type": "execute_result"
    }
   ],
   "execution_count": 197
  },
  {
   "cell_type": "markdown",
   "metadata": {
    "id": "ruZREYdi2o4O"
   },
   "source": [
    "## Inverted index"
   ]
  },
  {
   "cell_type": "code",
   "metadata": {
    "id": "vt9H9Alf3TYv",
    "colab": {
     "base_uri": "https://localhost:8080/"
    },
    "outputId": "3fdb9fdb-df11-464e-9a26-34cf3ade7c97",
    "ExecuteTime": {
     "end_time": "2025-02-26T16:56:33.717597Z",
     "start_time": "2025-02-26T16:56:33.708994Z"
    }
   },
   "source": [
    "from typing import Iterator\n",
    "\n",
    "d1 = \"it is what it is\"\n",
    "d2 = \"what is it\"\n",
    "d3 = \"it is a banana\"\n",
    "documents = [d1, d2, d3]\n",
    "\n",
    "\n",
    "def RECORDREADER():\n",
    "    for (docid, document) in enumerate(documents):\n",
    "        yield (\"{}\".format(docid), document)\n",
    "\n",
    "\n",
    "def MAP(docId: str, body: str):\n",
    "    for word in set(body.split(' ')):\n",
    "        yield (word, docId)\n",
    "\n",
    "\n",
    "def REDUCE(word: str, docIds: Iterator[str]):\n",
    "    yield (word, sorted(docIds))\n",
    "\n",
    "\n",
    "output = MapReduce(RECORDREADER, MAP, REDUCE)\n",
    "output = list(output)\n",
    "output"
   ],
   "outputs": [
    {
     "data": {
      "text/plain": [
       "[('what', ['0', '1']),\n",
       " ('it', ['0', '1', '2']),\n",
       " ('is', ['0', '1', '2']),\n",
       " ('banana', ['2']),\n",
       " ('a', ['2'])]"
      ]
     },
     "execution_count": 198,
     "metadata": {},
     "output_type": "execute_result"
    }
   ],
   "execution_count": 198
  },
  {
   "cell_type": "markdown",
   "metadata": {
    "id": "R7az-6DA6qr2"
   },
   "source": [
    "## WordCount"
   ]
  },
  {
   "cell_type": "code",
   "metadata": {
    "id": "dN-nbtgG6uYG",
    "colab": {
     "base_uri": "https://localhost:8080/"
    },
    "outputId": "7da10ebc-ca4f-41f0-e26a-22cbd1a22a26",
    "ExecuteTime": {
     "end_time": "2025-02-26T16:56:33.765663Z",
     "start_time": "2025-02-26T16:56:33.757544Z"
    }
   },
   "source": [
    "from typing import Iterator\n",
    "\n",
    "d1 = \"\"\"\n",
    "it is what it is\n",
    "it is what it is\n",
    "it is what it is\"\"\"\n",
    "d2 = \"\"\"\n",
    "what is it\n",
    "what is it\"\"\"\n",
    "d3 = \"\"\"\n",
    "it is a banana\"\"\"\n",
    "documents = [d1, d2, d3]\n",
    "\n",
    "\n",
    "def RECORDREADER():\n",
    "    for (docid, document) in enumerate(documents):\n",
    "        for (lineid, line) in enumerate(document.split('\\n')):\n",
    "            yield (\"{}:{}\".format(docid, lineid), line)\n",
    "\n",
    "\n",
    "def MAP(docId: str, line: str):\n",
    "    for word in line.split(\" \"):\n",
    "        yield (word, 1)\n",
    "\n",
    "\n",
    "def REDUCE(word: str, counts: Iterator[int]):\n",
    "    sum = 0\n",
    "    for c in counts:\n",
    "        sum += c\n",
    "    yield (word, sum)\n",
    "\n",
    "\n",
    "output = MapReduce(RECORDREADER, MAP, REDUCE)\n",
    "output = list(output)\n",
    "output"
   ],
   "outputs": [
    {
     "data": {
      "text/plain": [
       "[('', 3), ('it', 9), ('is', 9), ('what', 5), ('a', 1), ('banana', 1)]"
      ]
     },
     "execution_count": 199,
     "metadata": {},
     "output_type": "execute_result"
    }
   ],
   "execution_count": 199
  },
  {
   "cell_type": "markdown",
   "metadata": {
    "id": "h-jRAcYCAkkk"
   },
   "source": [
    "# MapReduce Distributed\n",
    "\n",
    "Добавляется в модель фабрика RECORDREARER-ов --- INPUTFORMAT, функция распределения промежуточных результатов по партициям PARTITIONER, и функция COMBINER для частичной аггрегации промежуточных результатов до распределения по новым партициям."
   ]
  },
  {
   "cell_type": "code",
   "metadata": {
    "id": "nw-b-xJsApgW",
    "ExecuteTime": {
     "end_time": "2025-02-26T16:56:33.817667Z",
     "start_time": "2025-02-26T16:56:33.810228Z"
    }
   },
   "source": [
    "def flatten(nested_iterable):\n",
    "    for iterable in nested_iterable:\n",
    "        for element in iterable:\n",
    "            yield element\n",
    "\n",
    "\n",
    "def groupbykey(iterable):\n",
    "    t = {}\n",
    "    for (k2, v2) in iterable:\n",
    "        t[k2] = t.get(k2, []) + [v2]\n",
    "    return t.items()\n",
    "\n",
    "\n",
    "def groupbykey_distributed(map_partitions, PARTITIONER):\n",
    "    global reducers\n",
    "    partitions = [dict() for _ in range(reducers)]\n",
    "    for map_partition in map_partitions:\n",
    "        for (k2, v2) in map_partition:\n",
    "            p = partitions[PARTITIONER(k2)]\n",
    "            p[k2] = p.get(k2, []) + [v2]\n",
    "    return [(partition_id, sorted(partition.items(), key=lambda x: x[0])) for (partition_id, partition) in\n",
    "            enumerate(partitions)]\n",
    "\n",
    "\n",
    "def PARTITIONER(obj):\n",
    "    global reducers\n",
    "    return hash(obj) % reducers\n",
    "\n",
    "\n",
    "def MapReduceDistributed(INPUTFORMAT, MAP, REDUCE, PARTITIONER=PARTITIONER, COMBINER=None):\n",
    "    map_partitions = map(lambda record_reader: flatten(map(lambda k1v1: MAP(*k1v1), record_reader)), INPUTFORMAT())\n",
    "    if COMBINER != None:\n",
    "        map_partitions = map(\n",
    "            lambda map_partition: flatten(map(lambda k2v2: COMBINER(*k2v2), groupbykey(map_partition))), map_partitions)\n",
    "    reduce_partitions = groupbykey_distributed(map_partitions, PARTITIONER)  # shuffle\n",
    "    reduce_outputs = map(lambda reduce_partition: (\n",
    "        reduce_partition[0], flatten(map(lambda reduce_input_group: REDUCE(*reduce_input_group), reduce_partition[1]))),\n",
    "                         reduce_partitions)\n",
    "\n",
    "    print(\"{} key-value pairs were sent over a network.\".format(\n",
    "        sum([len(vs) for (k, vs) in flatten([partition for (partition_id, partition) in reduce_partitions])])))\n",
    "    return reduce_outputs"
   ],
   "outputs": [],
   "execution_count": 200
  },
  {
   "cell_type": "markdown",
   "metadata": {
    "id": "kxirlf3XqZxY"
   },
   "source": [
    "## Спецификация MapReduce Distributed\n",
    "\n",
    "\n",
    "```\n",
    "f (k1, v1) -> (k2,v2)*\n",
    "g (k2, v2*) -> (k3,v3)*\n",
    "\n",
    "e1 (k1, v1)\n",
    "e2 (k2, v2)\n",
    "partition1 (k2, v2)*\n",
    "partition2 (k2, v2*)*\n",
    "\n",
    "flatmap (e1->e2*, e1*) -> partition1*\n",
    "groupby (partition1*) -> partition2*\n",
    "\n",
    "mapreduce ((k1,v1)*) -> (k3,v3)*\n",
    "mapreduce .flatmap(f).groupby(k2).flatmap(g)\n",
    "```\n",
    "\n"
   ]
  },
  {
   "cell_type": "markdown",
   "metadata": {
    "id": "CWYw_CpbbY3C"
   },
   "source": [
    "## WordCount"
   ]
  },
  {
   "cell_type": "code",
   "metadata": {
    "id": "uR_zfGFkMZlp",
    "colab": {
     "base_uri": "https://localhost:8080/"
    },
    "outputId": "e9753f1a-42dc-47c2-fcdf-db2d2148afdd",
    "ExecuteTime": {
     "end_time": "2025-02-26T16:56:33.840827Z",
     "start_time": "2025-02-26T16:56:33.830148Z"
    }
   },
   "source": [
    "from typing import Iterator\n",
    "\n",
    "d1 = \"\"\"\n",
    "it is what it is\n",
    "it is what it is\n",
    "it is what it is\"\"\"\n",
    "d2 = \"\"\"\n",
    "what is it\n",
    "what is it\"\"\"\n",
    "d3 = \"\"\"\n",
    "it is a banana\"\"\"\n",
    "documents = [d1, d2, d3, d1, d2, d3]\n",
    "\n",
    "maps = 3\n",
    "reducers = 2\n",
    "\n",
    "\n",
    "def INPUTFORMAT():\n",
    "    global maps\n",
    "\n",
    "    def RECORDREADER(split):\n",
    "        for (docid, document) in enumerate(split):\n",
    "            for (lineid, line) in enumerate(document.split('\\n')):\n",
    "                yield (\"{}:{}\".format(docid, lineid), line)\n",
    "\n",
    "    split_size = int(np.ceil(len(documents) / maps))\n",
    "    for i in range(0, len(documents), split_size):\n",
    "        yield RECORDREADER(documents[i:i + split_size])\n",
    "\n",
    "\n",
    "def MAP(docId: str, line: str):\n",
    "    for word in line.split(\" \"):\n",
    "        yield (word, 1)\n",
    "\n",
    "\n",
    "def REDUCE(word: str, counts: Iterator[int]):\n",
    "    sum = 0\n",
    "    for c in counts:\n",
    "        sum += c\n",
    "    yield (word, sum)\n",
    "\n",
    "\n",
    "# try to set COMBINER=REDUCER and look at the number of values sent over the network\n",
    "partitioned_output = MapReduceDistributed(INPUTFORMAT, MAP, REDUCE, COMBINER=None)\n",
    "partitioned_output = [(partition_id, list(partition)) for (partition_id, partition) in partitioned_output]\n",
    "partitioned_output"
   ],
   "outputs": [
    {
     "name": "stdout",
     "output_type": "stream",
     "text": [
      "56 key-value pairs were sent over a network.\n"
     ]
    },
    {
     "data": {
      "text/plain": [
       "[(0, [('', 6), ('banana', 2), ('is', 18)]),\n",
       " (1, [('a', 2), ('it', 18), ('what', 10)])]"
      ]
     },
     "execution_count": 201,
     "metadata": {},
     "output_type": "execute_result"
    }
   ],
   "execution_count": 201
  },
  {
   "cell_type": "markdown",
   "metadata": {
    "id": "gCJGx8IQ87xS"
   },
   "source": [
    "## TeraSort"
   ]
  },
  {
   "cell_type": "code",
   "metadata": {
    "id": "P2v8v1v_8_YR",
    "colab": {
     "base_uri": "https://localhost:8080/"
    },
    "outputId": "b9ef3826-1c3f-427f-cbab-4c42b5c480ba",
    "ExecuteTime": {
     "end_time": "2025-02-26T16:56:33.885829Z",
     "start_time": "2025-02-26T16:56:33.875749Z"
    }
   },
   "source": [
    "import numpy as np\n",
    "\n",
    "input_values = np.random.rand(30)\n",
    "maps = 3\n",
    "reducers = 2\n",
    "min_value = 0.0\n",
    "max_value = 1.0\n",
    "\n",
    "\n",
    "def INPUTFORMAT():\n",
    "    global maps\n",
    "\n",
    "    def RECORDREADER(split):\n",
    "        for value in split:\n",
    "            yield (value, None)\n",
    "\n",
    "    split_size = int(np.ceil(len(input_values) / maps))\n",
    "    for i in range(0, len(input_values), split_size):\n",
    "        yield RECORDREADER(input_values[i:i + split_size])\n",
    "\n",
    "\n",
    "def MAP(value: int, _):\n",
    "    yield (value, None)\n",
    "\n",
    "\n",
    "def PARTITIONER(key):\n",
    "    global reducers\n",
    "    global max_value\n",
    "    global min_value\n",
    "    bucket_size = (max_value - min_value) / reducers\n",
    "    bucket_id = 0\n",
    "    while ((key > (bucket_id + 1) * bucket_size) and ((bucket_id + 1) * bucket_size < max_value)):\n",
    "        bucket_id += 1\n",
    "    return bucket_id\n",
    "\n",
    "\n",
    "def REDUCE(value: int, _):\n",
    "    yield (None, value)\n",
    "\n",
    "\n",
    "partitioned_output = MapReduceDistributed(INPUTFORMAT, MAP, REDUCE, COMBINER=None, PARTITIONER=PARTITIONER)\n",
    "partitioned_output = [(partition_id, list(partition)) for (partition_id, partition) in partitioned_output]\n",
    "partitioned_output"
   ],
   "outputs": [
    {
     "name": "stdout",
     "output_type": "stream",
     "text": [
      "30 key-value pairs were sent over a network.\n"
     ]
    },
    {
     "data": {
      "text/plain": [
       "[(0,\n",
       "  [(None, np.float64(0.01870573900378536)),\n",
       "   (None, np.float64(0.024408245440828202)),\n",
       "   (None, np.float64(0.025418629463344278)),\n",
       "   (None, np.float64(0.1658236271032446)),\n",
       "   (None, np.float64(0.16694573982404026)),\n",
       "   (None, np.float64(0.20208720582999562)),\n",
       "   (None, np.float64(0.2058916435167838)),\n",
       "   (None, np.float64(0.21122888443167342)),\n",
       "   (None, np.float64(0.30321616821416697)),\n",
       "   (None, np.float64(0.3671866999172657)),\n",
       "   (None, np.float64(0.376242817512791)),\n",
       "   (None, np.float64(0.3943836079915053)),\n",
       "   (None, np.float64(0.44859323525266703)),\n",
       "   (None, np.float64(0.46655696611010955))]),\n",
       " (1,\n",
       "  [(None, np.float64(0.5771027516890415)),\n",
       "   (None, np.float64(0.5924131375951919)),\n",
       "   (None, np.float64(0.6085228841809663)),\n",
       "   (None, np.float64(0.6945950281795732)),\n",
       "   (None, np.float64(0.7413923653852651)),\n",
       "   (None, np.float64(0.750986119855691)),\n",
       "   (None, np.float64(0.7571583333405224)),\n",
       "   (None, np.float64(0.7580318234022124)),\n",
       "   (None, np.float64(0.7613540446052353)),\n",
       "   (None, np.float64(0.7859160079692341)),\n",
       "   (None, np.float64(0.8056905181754038)),\n",
       "   (None, np.float64(0.8114288047513891)),\n",
       "   (None, np.float64(0.8661330562008891)),\n",
       "   (None, np.float64(0.872181843901057)),\n",
       "   (None, np.float64(0.8904539531152659)),\n",
       "   (None, np.float64(0.9886917827920155))])]"
      ]
     },
     "execution_count": 202,
     "metadata": {},
     "output_type": "execute_result"
    }
   ],
   "execution_count": 202
  },
  {
   "cell_type": "code",
   "metadata": {
    "id": "MQhoJaVZI93G",
    "ExecuteTime": {
     "end_time": "2025-02-26T16:56:33.922067Z",
     "start_time": "2025-02-26T16:56:33.919257Z"
    }
   },
   "source": [],
   "outputs": [],
   "execution_count": null
  },
  {
   "cell_type": "markdown",
   "metadata": {
    "id": "Iy65YJTH99iT"
   },
   "source": [
    "# Упражнения\n",
    "Упражнения взяты из Rajaraman A., Ullman J. D. Mining of massive datasets. – Cambridge University Press, 2011.\n",
    "\n",
    "\n",
    "Для выполнения заданий переопределите функции RECORDREADER, MAP, REDUCE. Для модели распределённой системы может потребоваться переопределение функций PARTITION и COMBINER."
   ]
  },
  {
   "cell_type": "markdown",
   "metadata": {
    "id": "cfvAeZm3S8S8"
   },
   "source": [
    "### Максимальное значение ряда\n",
    "\n",
    "Разработайте MapReduce алгоритм, который находит максимальное число входного списка чисел."
   ]
  },
  {
   "cell_type": "code",
   "metadata": {
    "id": "3GRA1JR-Tkbg",
    "ExecuteTime": {
     "end_time": "2025-02-26T16:56:33.964957Z",
     "start_time": "2025-02-26T16:56:33.958430Z"
    }
   },
   "source": [
    "def MAP(_, row: NamedTuple):\n",
    "    yield 'max', row\n",
    "\n",
    "\n",
    "def REDUCE(aggregate: str, rows: list[NamedTuple]):\n",
    "    max_value = rows[0]\n",
    "    for row in rows:\n",
    "        if row.social_contacts > max_value.social_contacts:\n",
    "            max_value = row\n",
    "    yield aggregate, max_value.social_contacts\n",
    "\n",
    "\n",
    "def RECORDREADER():\n",
    "    return [(u.id, u) for u in input_collection]\n",
    "\n",
    "\n",
    "output = MapReduce(RECORDREADER, MAP, REDUCE)\n",
    "output = list(output)\n",
    "output"
   ],
   "outputs": [
    {
     "data": {
      "text/plain": [
       "[('max', 800)]"
      ]
     },
     "execution_count": 203,
     "metadata": {},
     "output_type": "execute_result"
    }
   ],
   "execution_count": 203
  },
  {
   "cell_type": "markdown",
   "metadata": {
    "id": "k86bXnqZTk-U"
   },
   "source": [
    "### Арифметическое среднее\n",
    "\n",
    "Разработайте MapReduce алгоритм, который находит арифметическое среднее.\n",
    "\n",
    "$$\\overline{X} = \\frac{1}{n}\\sum_{i=0}^{n} x_i$$\n"
   ]
  },
  {
   "cell_type": "code",
   "metadata": {
    "id": "MPoY5pkfUNZf",
    "ExecuteTime": {
     "end_time": "2025-02-26T16:56:34.009721Z",
     "start_time": "2025-02-26T16:56:34.003332Z"
    }
   },
   "source": [
    "def MAP(_, row: NamedTuple):\n",
    "    yield 'avg', row\n",
    "\n",
    "\n",
    "def REDUCE(aggregate: str, rows: list[NamedTuple]):\n",
    "    c = 0\n",
    "    s = 0\n",
    "    for row in rows:\n",
    "        s += row.social_contacts\n",
    "        c += 1\n",
    "    yield aggregate, s / c\n",
    "\n",
    "\n",
    "def RECORDREADER():\n",
    "    return [(u.id, u) for u in input_collection]\n",
    "\n",
    "\n",
    "output = MapReduce(RECORDREADER, MAP, REDUCE)\n",
    "output = list(output)\n",
    "output"
   ],
   "outputs": [
    {
     "data": {
      "text/plain": [
       "[('avg', 390.0)]"
      ]
     },
     "execution_count": 204,
     "metadata": {},
     "output_type": "execute_result"
    }
   ],
   "execution_count": 204
  },
  {
   "cell_type": "markdown",
   "metadata": {
    "id": "xanzszhsIlLe"
   },
   "source": [
    "### GroupByKey на основе сортировки\n",
    "\n",
    "Реализуйте groupByKey на основе сортировки, проверьте его работу на примерах"
   ]
  },
  {
   "cell_type": "code",
   "metadata": {
    "id": "hQPn3USsIkEC",
    "ExecuteTime": {
     "end_time": "2025-02-26T16:56:34.045735Z",
     "start_time": "2025-02-26T16:56:34.038693Z"
    }
   },
   "source": [
    "def groupbykey(iterable):\n",
    "    # sort by social_contacts\n",
    "    iterable = sorted(iterable, key=lambda user: user[1].social_contacts)\n",
    "    t = {}\n",
    "    for k2, v2 in iterable:\n",
    "        t[k2] = t.get(k2, []) + [v2]\n",
    "    return t.items()\n",
    "\n",
    "\n",
    "output = MapReduce(RECORDREADER, MAP, REDUCE)\n",
    "output = list(output)\n",
    "output"
   ],
   "outputs": [
    {
     "data": {
      "text/plain": [
       "[('avg', 390.0)]"
      ]
     },
     "execution_count": 205,
     "metadata": {},
     "output_type": "execute_result"
    }
   ],
   "execution_count": 205
  },
  {
   "cell_type": "markdown",
   "metadata": {
    "id": "5SgEjCZyGnu6"
   },
   "source": [
    "### Drop duplicates (set construction, unique elements, distinct)\n",
    "\n",
    "Реализуйте распределённую операцию исключения дубликатов"
   ]
  },
  {
   "cell_type": "code",
   "metadata": {
    "id": "okjbyApjGhMt",
    "ExecuteTime": {
     "end_time": "2025-02-26T17:18:02.186873Z",
     "start_time": "2025-02-26T17:18:02.172598Z"
    }
   },
   "source": [
    "input_collection = [\n",
    "    User(id=0, age=17, gender='male', social_contacts=6146),\n",
    "    User(id=0, age=13, gender='female', social_contacts=223),\n",
    "    User(id=1, age=24, gender='male', social_contacts=6363),\n",
    "    User(id=2, age=51, gender='female', social_contacts=124),\n",
    "    User(id=2, age=91, gender='male', social_contacts=666),\n",
    "    User(id=3, age=45, gender='female', social_contacts=12416),\n",
    "    User(id=3, age=81, gender='female', social_contacts=1512),\n",
    "    User(id=4, age=11, gender='male', social_contacts=81),\n",
    "]\n",
    "\n",
    "\n",
    "def flatten(nested_iterable):\n",
    "    for iterable in nested_iterable:\n",
    "        for element in iterable:\n",
    "            yield element\n",
    "\n",
    "\n",
    "def groupbykey(iterable):\n",
    "    t = {}\n",
    "    for (k2, v2) in iterable:\n",
    "        t[k2] = t.get(k2, []) + [v2]\n",
    "    return t.items()\n",
    "\n",
    "\n",
    "def groupbykey_distributed(map_partitions, PARTITIONER):\n",
    "    global reducers\n",
    "    partitions = [dict() for _ in range(reducers)]\n",
    "    for map_partition in map_partitions:\n",
    "        for (k2, v2) in map_partition:\n",
    "            p = partitions[PARTITIONER(k2)]\n",
    "            p[k2] = p.get(k2, []) + [v2]\n",
    "    return [\n",
    "        (partition_id, sorted(partition.items(), key=lambda x: x[0]))\n",
    "        for (partition_id, partition) in enumerate(partitions)\n",
    "    ]\n",
    "\n",
    "\n",
    "def PARTITIONER(obj):\n",
    "    global reducers\n",
    "    return hash(obj) % reducers\n",
    "\n",
    "\n",
    "def MapReduceDistributed(INPUTFORMAT, MAP, REDUCE, PARTITIONER=PARTITIONER, COMBINER=None):\n",
    "    map_partitions = map(lambda record_reader: flatten(map(lambda k1v1: MAP(*k1v1), record_reader)), INPUTFORMAT())\n",
    "\n",
    "    if COMBINER != None:\n",
    "        map_partitions = map(\n",
    "            lambda map_partition: flatten(map(lambda k2v2: COMBINER(*k2v2), groupbykey(map_partition))), map_partitions)\n",
    "\n",
    "    reduce_partitions = groupbykey_distributed(map_partitions, PARTITIONER)  # shuffle\n",
    "    reduce_outputs = map(lambda reduce_partition: (\n",
    "        reduce_partition[0],\n",
    "        flatten(map(\n",
    "            lambda reduce_input_group: REDUCE(*reduce_input_group), reduce_partition[1]\n",
    "        ))\n",
    "    ), reduce_partitions)\n",
    "\n",
    "    print(\"{} key-value pairs were sent over a network.\".format(\n",
    "        sum([len(vs) for (k, vs) in flatten([partition for (partition_id, partition) in reduce_partitions])])))\n",
    "    return reduce_outputs\n",
    "\n",
    "\n",
    "maps = 3\n",
    "reducers = 2\n",
    "\n",
    "\n",
    "def INPUTFORMAT():\n",
    "    global maps\n",
    "\n",
    "    def RECORDREADER(split):\n",
    "        for userindex, user in enumerate(split):\n",
    "            yield (userindex, user)\n",
    "\n",
    "    split_size = int(np.ceil(len(input_collection) / maps))\n",
    "    for i in range(0, len(input_collection), split_size):\n",
    "        yield RECORDREADER(input_collection[i: i + split_size])\n",
    "\n",
    "\n",
    "def MAP_UNIQUE(_, user: str):\n",
    "    yield (user.id, user)\n",
    "\n",
    "\n",
    "def REDUCE_UNIQUE(user_id: int, users: Iterator[int]):\n",
    "    yield users[0]\n",
    "\n",
    "\n",
    "partitioned_output = MapReduceDistributed(\n",
    "    INPUTFORMAT, MAP_UNIQUE, REDUCE_UNIQUE, COMBINER=None\n",
    ")\n",
    "partitioned_output = [\n",
    "    (partition_id, list(partition)) for (partition_id, partition) in partitioned_output\n",
    "]\n",
    "partitioned_output"
   ],
   "outputs": [
    {
     "name": "stdout",
     "output_type": "stream",
     "text": [
      "8 key-value pairs were sent over a network.\n"
     ]
    },
    {
     "data": {
      "text/plain": [
       "[(0,\n",
       "  [User(id=0, age=17, social_contacts=6146, gender='male'),\n",
       "   User(id=2, age=51, social_contacts=124, gender='female'),\n",
       "   User(id=4, age=11, social_contacts=81, gender='male')]),\n",
       " (1,\n",
       "  [User(id=1, age=24, social_contacts=6363, gender='male'),\n",
       "   User(id=3, age=45, social_contacts=12416, gender='female')])]"
      ]
     },
     "execution_count": 211,
     "metadata": {},
     "output_type": "execute_result"
    }
   ],
   "execution_count": 211
  },
  {
   "cell_type": "markdown",
   "metadata": {
    "id": "e7sRGoTXuJze"
   },
   "source": [
    "#Операторы реляционной алгебры\n",
    "### Selection (Выборка)\n",
    "\n",
    "**The Map Function**: Для  каждого кортежа $t \\in R$ вычисляется истинность предиката $C$. В случае истины создаётся пара ключ-значение $(t, t)$. В паре ключ и значение одинаковы, равны $t$.\n",
    "\n",
    "**The Reduce Function:** Роль функции Reduce выполняет функция идентичности, которая возвращает то же значение, что получила на вход.\n",
    "\n"
   ]
  },
  {
   "cell_type": "code",
   "metadata": {
    "id": "4nKIKe59uIfc",
    "ExecuteTime": {
     "end_time": "2025-02-26T17:19:31.306208Z",
     "start_time": "2025-02-26T17:19:31.298624Z"
    }
   },
   "source": [
    "def MAP(_, row: NamedTuple):\n",
    "    if row.age == 11:\n",
    "        yield (row, row)\n",
    "\n",
    "\n",
    "def REDUCE(row: str, rows: Iterator[NamedTuple]):\n",
    "    yield (row, rows)\n",
    "\n",
    "\n",
    "def RECORDREADER():\n",
    "    return [(u.id, u) for u in input_collection]\n",
    "\n",
    "\n",
    "output = MapReduce(RECORDREADER, MAP, REDUCE)\n",
    "output = list(output)\n",
    "output"
   ],
   "outputs": [
    {
     "data": {
      "text/plain": [
       "[(User(id=4, age=11, social_contacts=81, gender='male'),\n",
       "  [User(id=4, age=11, social_contacts=81, gender='male')])]"
      ]
     },
     "execution_count": 212,
     "metadata": {},
     "output_type": "execute_result"
    }
   ],
   "execution_count": 212
  },
  {
   "cell_type": "markdown",
   "metadata": {
    "id": "w27Ca-_Ku85V"
   },
   "source": [
    "### Projection (Проекция)\n",
    "\n",
    "Проекция на множество атрибутов $S$.\n",
    "\n",
    "**The Map Function:** Для каждого кортежа $t \\in R$ создайте кортеж $t′$, исключая  из $t$ те значения, атрибуты которых не принадлежат  $S$. Верните пару $(t′, t′)$.\n",
    "\n",
    "**The Reduce Function:** Для каждого ключа $t′$, созданного любой Map задачей, вы получаете одну или несколько пар $(t′, t′)$. Reduce функция преобразует $(t′, [t′, t′, . . . , t′])$ в $(t′, t′)$, так, что для ключа $t′$ возвращается одна пара  $(t′, t′)$."
   ]
  },
  {
   "cell_type": "code",
   "metadata": {
    "id": "BEvuY4GqvhS6",
    "ExecuteTime": {
     "end_time": "2025-02-26T17:36:32.237057Z",
     "start_time": "2025-02-26T17:36:32.228422Z"
    }
   },
   "source": [
    "def flatten(nested_iterable):\n",
    "    for iterable in nested_iterable:\n",
    "        for element in iterable:\n",
    "            yield element\n",
    "\n",
    "\n",
    "def groupbykey(iterable):\n",
    "    t = {}\n",
    "    for k2, v2 in iterable:\n",
    "        t[k2] = t.get(k2, []) + [v2]\n",
    "    return t.items()\n",
    "\n",
    "\n",
    "def MapReduce(RECORDREADER, MAP, REDUCE):\n",
    "    return flatten(\n",
    "        map(\n",
    "            lambda x: REDUCE(*x),\n",
    "            groupbykey(flatten(map(lambda x: MAP(*x), RECORDREADER()))),\n",
    "        )\n",
    "    )\n",
    "\n",
    "\n",
    "def MAP(_, row: NamedTuple):\n",
    "    S = ['age', 'social_contacts']\n",
    "    projection = tuple((s, getattr(row, s)) for s in S)\n",
    "    yield projection, projection\n",
    "\n",
    "\n",
    "def REDUCE(row: str, rows: Iterator[NamedTuple]):\n",
    "    yield rows\n",
    "\n",
    "\n",
    "def RECORDREADER():\n",
    "    return [(u.id, u) for u in input_collection]\n",
    "\n",
    "\n",
    "output = MapReduce(RECORDREADER, MAP, REDUCE)\n",
    "output = list(output)\n",
    "output"
   ],
   "outputs": [
    {
     "data": {
      "text/plain": [
       "[[(('age', 17), ('social_contacts', 6146))],\n",
       " [(('age', 13), ('social_contacts', 223))],\n",
       " [(('age', 24), ('social_contacts', 6363))],\n",
       " [(('age', 51), ('social_contacts', 124))],\n",
       " [(('age', 91), ('social_contacts', 666))],\n",
       " [(('age', 45), ('social_contacts', 12416))],\n",
       " [(('age', 81), ('social_contacts', 1512))],\n",
       " [(('age', 11), ('social_contacts', 81))]]"
      ]
     },
     "execution_count": 243,
     "metadata": {},
     "output_type": "execute_result"
    }
   ],
   "execution_count": 243
  },
  {
   "cell_type": "markdown",
   "metadata": {
    "id": "7gau6lKXvn2R"
   },
   "source": [
    "### Union (Объединение)\n",
    "\n",
    "**The Map Function:** Превратите каждый входной кортеж $t$ в пару ключ-значение $(t, t)$.\n",
    "\n",
    "**The Reduce Function:** С каждым ключом $t$ будет ассоциировано одно или два значений. В обоих случаях создайте $(t, t)$ в качестве выходного значения."
   ]
  },
  {
   "cell_type": "code",
   "metadata": {
    "id": "Sns7a5agv3nw",
    "ExecuteTime": {
     "end_time": "2025-02-26T17:43:04.612705Z",
     "start_time": "2025-02-26T17:43:04.600418Z"
    }
   },
   "source": [
    "from typing import Iterator\n",
    "\n",
    "input_collection_a = [\n",
    "    User(id=1, age=17, gender='male', social_contacts=51),\n",
    "    User(id=2, age=13, gender='female', social_contacts=25),\n",
    "    User(id=3, age=24, gender='male', social_contacts=424),\n",
    "    User(id=4, age=51, gender='male', social_contacts=455),\n",
    "    User(id=5, age=91, gender='female', social_contacts=152),\n",
    "]\n",
    "\n",
    "input_collection_b = [\n",
    "    User(id=4, age=51, gender='male', social_contacts=455),\n",
    "    User(id=5, age=91, gender='female', social_contacts=152),\n",
    "    User(id=6, age=23, gender='female', social_contacts=44),\n",
    "]\n",
    "\n",
    "\n",
    "def flatten(nested_iterable):\n",
    "    for iterable in nested_iterable:\n",
    "        for element in iterable:\n",
    "            yield element\n",
    "\n",
    "\n",
    "def groupbykey(iterable):\n",
    "    t = {}\n",
    "    for k2, v2 in iterable:\n",
    "        t[k2] = t.get(k2, []) + [v2]\n",
    "    return t.items()\n",
    "\n",
    "\n",
    "def MapReduce(RECORDREADER, MAP, REDUCE):\n",
    "    return flatten(\n",
    "        map(\n",
    "            lambda x: REDUCE(*x),\n",
    "            groupbykey(flatten(map(lambda x: MAP(*x), RECORDREADER()))),\n",
    "        )\n",
    "    )\n",
    "\n",
    "\n",
    "def RECORDREADER():\n",
    "    return [(u.id, u) for u in input_collection_a + input_collection_b]\n",
    "\n",
    "\n",
    "def MAP(_, row: NamedTuple):\n",
    "    yield row.id, row\n",
    "\n",
    "\n",
    "def REDUCEN(row: str, rows: Iterator[NamedTuple]):\n",
    "    for elem in rows:\n",
    "        yield row, elem\n",
    "\n",
    "\n",
    "output = MapReduce(RECORDREADER, MAP, REDUCE)\n",
    "output = list(output)\n",
    "output"
   ],
   "outputs": [
    {
     "data": {
      "text/plain": [
       "[1, 2, 3, 4, 5, 6]"
      ]
     },
     "execution_count": 250,
     "metadata": {},
     "output_type": "execute_result"
    }
   ],
   "execution_count": 250
  },
  {
   "cell_type": "markdown",
   "metadata": {
    "id": "dQ8TuEbjv4J8"
   },
   "source": [
    "### Intersection (Пересечение)\n",
    "\n",
    "**The Map Function:** Превратите каждый кортеж $t$ в пары ключ-значение $(t, t)$.\n",
    "\n",
    "**The Reduce Function:** Если для ключа $t$ есть список из двух элементов $[t, t]$ $-$ создайте пару $(t, t)$. Иначе, ничего не создавайте."
   ]
  },
  {
   "cell_type": "code",
   "metadata": {
    "id": "XKlBZh4IwERR",
    "ExecuteTime": {
     "end_time": "2025-02-26T17:40:27.229111Z",
     "start_time": "2025-02-26T17:40:27.221579Z"
    }
   },
   "source": [
    "def MAP(_, row: NamedTuple):\n",
    "    yield row.id, row\n",
    "\n",
    "\n",
    "def REDUCE(row: str, rows: Iterator[NamedTuple]):\n",
    "    if len(rows) == 2:\n",
    "        yield rows[0], rows[1]\n",
    "\n",
    "\n",
    "def RECORDREADER():\n",
    "    return [(u.id, u) for u in input_collection_a + input_collection_b]\n",
    "\n",
    "\n",
    "output = MapReduce(RECORDREADER, MAP, REDUCE)\n",
    "output = list(output)\n",
    "output"
   ],
   "outputs": [
    {
     "data": {
      "text/plain": [
       "[(User(id=4, age=51, social_contacts=455, gender='male'),\n",
       "  User(id=4, age=51, social_contacts=666, gender='female')),\n",
       " (User(id=5, age=91, social_contacts=152, gender='female'),\n",
       "  User(id=5, age=44, social_contacts=125, gender='male'))]"
      ]
     },
     "execution_count": 246,
     "metadata": {},
     "output_type": "execute_result"
    }
   ],
   "execution_count": 246
  },
  {
   "cell_type": "markdown",
   "metadata": {
    "id": "AVOpqoY3wE5k"
   },
   "source": [
    "### Difference (Разница)\n",
    "\n",
    "**The Map Function:** Для кортежа $t \\in R$, создайте пару $(t, R)$, и для кортежа $t \\in S$, создайте пару $(t, S)$. Задумка заключается в том, чтобы значение пары было именем отношения $R$ or $S$, которому принадлежит кортеж (а лучше, единичный бит, по которому можно два отношения различить $R$ or $S$), а не весь набор атрибутов отношения.\n",
    "\n",
    "**The Reduce Function:** Для каждого ключа $t$, если соответствующее значение является списком $[R]$, создайте пару $(t, t)$. В иных случаях не предпринимайте действий."
   ]
  },
  {
   "cell_type": "code",
   "metadata": {
    "id": "QE_AC09lwZIZ",
    "ExecuteTime": {
     "end_time": "2025-02-26T17:43:07.203401Z",
     "start_time": "2025-02-26T17:43:07.196802Z"
    }
   },
   "source": [
    "def MAP(collection_id, user):\n",
    "    yield user, collection_id\n",
    "\n",
    "\n",
    "def REDUCE(user, collections):\n",
    "    if 1 not in collections:\n",
    "        yield user\n",
    "\n",
    "\n",
    "# На первом месте стоит номер выборки\n",
    "def RECORDREADER():\n",
    "    return [(0, a) for a in input_collection_a] + [(1, b) for b in input_collection_b]\n",
    "\n",
    "\n",
    "output = MapReduce(RECORDREADER, MAP, REDUCE)\n",
    "output = list(output)\n",
    "output"
   ],
   "outputs": [
    {
     "data": {
      "text/plain": [
       "[User(id=1, age=17, social_contacts=51, gender='male'),\n",
       " User(id=2, age=13, social_contacts=25, gender='female'),\n",
       " User(id=3, age=24, social_contacts=424, gender='male')]"
      ]
     },
     "execution_count": 251,
     "metadata": {},
     "output_type": "execute_result"
    }
   ],
   "execution_count": 251
  },
  {
   "cell_type": "markdown",
   "metadata": {
    "id": "j8I58V2VwhSm"
   },
   "source": [
    "### Natural Join\n",
    "\n",
    "**The Map Function:** Для каждого кортежа $(a, b)$ отношения $R$, создайте пару $(b,(R, a))$. Для каждого кортежа $(b, c)$ отношения $S$, создайте пару $(b,(S, c))$.\n",
    "\n",
    "**The Reduce Function:** Каждый ключ $b$ будет асоциирован со списком пар, которые принимают форму либо $(R, a)$, либо $(S, c)$. Создайте все пары, одни, состоящие из  первого компонента $R$, а другие, из первого компонента $S$, то есть $(R, a)$ и $(S, c)$. На выходе вы получаете последовательность пар ключ-значение из списков ключей и значений. Ключ не нужен. Каждое значение, это тройка $(a, b, c)$ такая, что $(R, a)$ и $(S, c)$ это принадлежат входному списку значений."
   ]
  },
  {
   "cell_type": "code",
   "metadata": {
    "id": "yHiuuTctw86I",
    "ExecuteTime": {
     "end_time": "2025-02-26T17:48:32.782976Z",
     "start_time": "2025-02-26T17:48:32.771401Z"
    }
   },
   "source": [
    "class User(NamedTuple):\n",
    "    id: int\n",
    "    age: int\n",
    "    social_contacts: int\n",
    "    gender: str\n",
    "    address_id: int\n",
    "\n",
    "\n",
    "users_collection = [\n",
    "    User(id=1, age=17, gender='male', social_contacts=51, address_id=1),\n",
    "    User(id=2, age=13, gender='female', social_contacts=25, address_id=1),\n",
    "    User(id=3, age=24, gender='male', social_contacts=424, address_id=3),\n",
    "    User(id=4, age=51, gender='male', social_contacts=455, address_id=1),\n",
    "    User(id=5, age=91, gender='female', social_contacts=152, address_id=4),\n",
    "]\n",
    "\n",
    "\n",
    "class Address(NamedTuple):\n",
    "    id: int\n",
    "    line: str\n",
    "\n",
    "\n",
    "addresses_collection = [\n",
    "    Address(id=1, line=\"1\"),\n",
    "    Address(id=2, line=\"2\"),\n",
    "    Address(id=3, line=\"3\"),\n",
    "    Address(id=4, line=\"4\"),\n",
    "    Address(id=5, line=\"5\")\n",
    "]\n",
    "\n",
    "\n",
    "def MAP(address_id, row):\n",
    "    yield address_id, row\n",
    "\n",
    "\n",
    "def REDUCE(address_id, rows):\n",
    "    users = []\n",
    "    address = None\n",
    "\n",
    "    for row in rows:\n",
    "        if type(row) is User:\n",
    "            users += [row]\n",
    "        else:\n",
    "            address = row\n",
    "\n",
    "    for row in rows:\n",
    "        if type(row) is User:\n",
    "            yield row, row.address_id, address\n",
    "\n",
    "\n",
    "def RECORDREADER():\n",
    "    return [(user.address_id, user) for user in users_collection] + [(address.id, address) for address in\n",
    "                                                                     addresses_collection]\n",
    "\n",
    "\n",
    "output = MapReduce(RECORDREADER, MAP, REDUCE)\n",
    "output = list(output)\n",
    "join = output\n",
    "output"
   ],
   "outputs": [
    {
     "data": {
      "text/plain": [
       "[(User(id=1, age=17, social_contacts=51, gender='male', address_id=1),\n",
       "  1,\n",
       "  Address(id=1, line='1')),\n",
       " (User(id=2, age=13, social_contacts=25, gender='female', address_id=1),\n",
       "  1,\n",
       "  Address(id=1, line='1')),\n",
       " (User(id=4, age=51, social_contacts=455, gender='male', address_id=1),\n",
       "  1,\n",
       "  Address(id=1, line='1')),\n",
       " (User(id=3, age=24, social_contacts=424, gender='male', address_id=3),\n",
       "  3,\n",
       "  Address(id=3, line='3')),\n",
       " (User(id=5, age=91, social_contacts=152, gender='female', address_id=4),\n",
       "  4,\n",
       "  Address(id=4, line='4'))]"
      ]
     },
     "execution_count": 254,
     "metadata": {},
     "output_type": "execute_result"
    }
   ],
   "execution_count": 254
  },
  {
   "cell_type": "markdown",
   "metadata": {
    "id": "kYdlr0YUxE27"
   },
   "source": [
    "### Grouping and Aggregation (Группировка и аггрегация)\n",
    "\n",
    "**The Map Function:** Для каждого кортежа $(a, b, c$) создайте пару $(a, b)$.\n",
    "\n",
    "**The Reduce Function:** Ключ представляет ту или иную группу. Примение аггрегирующую операцию $\\theta$ к списку значений $[b1, b2, . . . , bn]$ ассоциированных с ключом $a$. Возвращайте в выходной поток $(a, x)$, где $x$ результат применения  $\\theta$ к списку. Например, если $\\theta$ это $SUM$, тогда $x = b1 + b2 + · · · + bn$, а если $\\theta$ is $MAX$, тогда $x$ это максимальное из значений $b1, b2, . . . , bn$."
   ]
  },
  {
   "cell_type": "code",
   "metadata": {
    "id": "MLPckfEGxico",
    "ExecuteTime": {
     "end_time": "2025-02-26T17:48:44.289316Z",
     "start_time": "2025-02-26T17:48:44.281766Z"
    }
   },
   "source": [
    "def MAP(address_id, user, address):\n",
    "    yield address_id, user\n",
    "\n",
    "\n",
    "def REDUCE(address_id, rows):\n",
    "    yield f'address with id={address_id} has {len(rows)} users'\n",
    "\n",
    "\n",
    "def RECORDREADER():\n",
    "    return [(address_id, user, address) for user, address_id, address in join]\n",
    "\n",
    "\n",
    "output = MapReduce(RECORDREADER, MAP, REDUCE)\n",
    "output = list(output)\n",
    "output"
   ],
   "outputs": [
    {
     "data": {
      "text/plain": [
       "['address with id=1 has 3 users',\n",
       " 'address with id=3 has 1 users',\n",
       " 'address with id=4 has 1 users']"
      ]
     },
     "execution_count": 256,
     "metadata": {},
     "output_type": "execute_result"
    }
   ],
   "execution_count": 256
  },
  {
   "cell_type": "markdown",
   "metadata": {
    "id": "03IffTEOJgOb"
   },
   "source": [
    "#"
   ]
  },
  {
   "cell_type": "markdown",
   "metadata": {
    "id": "IIrRgvG4RIS4"
   },
   "source": [
    "### Matrix-Vector multiplication\n",
    "\n",
    "Случай, когда вектор не помещается в памяти Map задачи\n"
   ]
  },
  {
   "cell_type": "code",
   "metadata": {
    "id": "KQhDbiL3zS9r",
    "ExecuteTime": {
     "end_time": "2025-02-26T17:52:13.236439Z",
     "start_time": "2025-02-26T17:52:13.227763Z"
    }
   },
   "source": [
    "from typing import Iterator\n",
    "\n",
    "input_matrix = [\n",
    "    (4, 2, 1), (0, 6, 3), (1, 2, 4),\n",
    "    (2, 6, 4), (2, 7, 2), (4, 6, 5),\n",
    "    (2, 1, 0), (4, 1, 5), (2, 1, 3),\n",
    "]\n",
    "\n",
    "input_vector = [\n",
    "    (2, 1), (1, 2), (0, 2)\n",
    "]\n",
    "\n",
    "\n",
    "def flatten(nested_iterable):\n",
    "    for iterable in nested_iterable:\n",
    "        for element in iterable:\n",
    "            yield element\n",
    "\n",
    "\n",
    "def groupbykey(iterable):\n",
    "    grouped = {}\n",
    "    for key, value in iterable:\n",
    "        grouped[key] = grouped.get(key, []) + [value]\n",
    "    return grouped.items()\n",
    "\n",
    "\n",
    "def MapReduce(RECORDREADER, MAP, REDUCE):\n",
    "    return flatten(\n",
    "        map(\n",
    "            lambda x: REDUCE(*x),\n",
    "            groupbykey(flatten(map(lambda x: MAP(*x), RECORDREADER()))),\n",
    "        )\n",
    "    )\n",
    "\n",
    "\n",
    "def MAP(_, matrix_row):\n",
    "    row, col, value = matrix_row\n",
    "    for vec_col, vec_value in input_vector:\n",
    "        if vec_col == col:\n",
    "            yield row, value * vec_value\n",
    "\n",
    "\n",
    "def REDUCE(row, values: Iterator[int]):\n",
    "    yield row, sum(values)\n",
    "\n",
    "\n",
    "def RECORDREADER():\n",
    "    return [(None, m) for m in input_matrix]\n",
    "\n",
    "\n",
    "output = MapReduce(RECORDREADER, MAP, REDUCE)\n",
    "output = list(output)\n",
    "output"
   ],
   "outputs": [
    {
     "data": {
      "text/plain": [
       "[(4, 11), (1, 4), (2, 6)]"
      ]
     },
     "execution_count": 257,
     "metadata": {},
     "output_type": "execute_result"
    }
   ],
   "execution_count": 257
  },
  {
   "cell_type": "markdown",
   "metadata": {
    "id": "GIo2t7nNxvA9"
   },
   "source": [
    "## Matrix multiplication (Перемножение матриц)\n",
    "\n",
    "Если у нас есть матрица $M$ с элементами $m_{ij}$ в строке $i$ и столбце $j$, и матрица $N$ с элементами $n_{jk}$ в строке $j$ и столбце $k$, тогда их произведение $P = MN$ есть матрица $P$ с элементами $p_{ik}$ в строке $i$ и столбце $k$, где\n",
    "\n",
    "$$p_{ik} =\\sum_{j} m_{ij}n_{jk}$$\n",
    "\n",
    "Необходимым требованием является одинаковое количество столбцов в $M$ и строк в $N$, чтобы операция суммирования по  $j$ была осмысленной. Мы можем размышлять о матрице, как об отношении с тремя атрибутами: номер строки, номер столбца, само значение. Таким образом матрица $M$ предстваляется как отношение $ M(I, J, V )$, с кортежами $(i, j, m_{ij})$, и, аналогично, матрица $N$ представляется как отношение $N(J, K, W)$, с кортежами $(j, k, n_{jk})$. Так как большие матрицы как правило разреженные (большинство значений равно 0), и так как мы можем нулевыми значениями пренебречь (не хранить), такое реляционное представление достаточно эффективно для больших матриц. Однако, возможно, что координаты $i$, $j$, и $k$ неявно закодированы в смещение позиции элемента относительно начала файла, вместо явного хранения. Тогда, функция Map (или Reader) должна быть разработана таким образом, чтобы реконструировать компоненты $I$, $J$, и $K$ кортежей из смещения.\n",
    "\n",
    "Произведение $MN$ это фактически join, за которым следуют группировка по ключу и аггрегация. Таким образом join отношений $M(I, J, V )$ и $N(J, K, W)$, имеющих общим только атрибут $J$, создаст кортежи $(i, j, k, v, w)$ из каждого кортежа $(i, j, v) \\in M$ и кортежа $(j, k, w) \\in N$. Такой 5 компонентный кортеж представляет пару элементов матрицы $(m_{ij} , n_{jk})$. Что нам хотелось бы получить на самом деле, это произведение этих элементов, то есть, 4 компонентный кортеж$(i, j, k, v \\times w)$, так как он представляет произведение $m_{ij}n_{jk}$. Мы представляем отношение как результат одной MapReduce операции, в которой мы можем произвести группировку и аггрегацию, с $I$ и $K$  атрибутами, по которым идёт группировка, и суммой  $V \\times W$.\n",
    "\n",
    "\n",
    "\n"
   ]
  },
  {
   "cell_type": "code",
   "metadata": {
    "id": "1MBkGaLAYVCt",
    "ExecuteTime": {
     "end_time": "2025-02-26T17:52:24.379059Z",
     "start_time": "2025-02-26T17:52:24.373901Z"
    }
   },
   "source": [
    "# MapReduce model\n",
    "def flatten(nested_iterable):\n",
    "    for iterable in nested_iterable:\n",
    "        for element in iterable:\n",
    "            yield element\n",
    "\n",
    "\n",
    "def groupbykey(iterable):\n",
    "    t = {}\n",
    "    for (k2, v2) in iterable:\n",
    "        t[k2] = t.get(k2, []) + [v2]\n",
    "    return t.items()\n",
    "\n",
    "\n",
    "def MapReduce(RECORDREADER, MAP, REDUCE):\n",
    "    return flatten(map(lambda x: REDUCE(*x), groupbykey(flatten(map(lambda x: MAP(*x), RECORDREADER())))))"
   ],
   "outputs": [],
   "execution_count": 258
  },
  {
   "cell_type": "markdown",
   "metadata": {
    "id": "sMspsOT0ZB35"
   },
   "source": [
    "Реализуйте перемножение матриц с использованием модельного кода MapReduce для одной машины в случае, когда одна матрица хранится в памяти, а другая генерируется RECORDREADER-ом."
   ]
  },
  {
   "cell_type": "code",
   "metadata": {
    "id": "psP1XekbsEjS",
    "ExecuteTime": {
     "end_time": "2025-02-26T17:53:45.076527Z",
     "start_time": "2025-02-26T17:53:45.070158Z"
    }
   },
   "source": [
    "import numpy as np\n",
    "\n",
    "I = 2\n",
    "J = 3\n",
    "K = 4 * 10\n",
    "small_mat = np.random.rand(I, J)  # it is legal to access this from RECORDREADER, MAP, REDUCE\n",
    "big_mat = np.random.rand(J, K)\n",
    "\n",
    "\n",
    "def RECORDREADER():\n",
    "    for j in range(big_mat.shape[0]):\n",
    "        for k in range(big_mat.shape[1]):\n",
    "            yield ((j, k), big_mat[j, k])\n",
    "\n",
    "\n",
    "def MAP(k1, v1):\n",
    "    (j, k) = k1\n",
    "    w = v1\n",
    "    for i in range(I):\n",
    "        yield (i, k), small_mat[i, j] * w\n",
    "\n",
    "\n",
    "def REDUCE(key, values):\n",
    "    (i, k) = key\n",
    "    yield (i, k), sum(values)"
   ],
   "outputs": [],
   "execution_count": 259
  },
  {
   "cell_type": "markdown",
   "metadata": {
    "id": "rnt306LHhHrm"
   },
   "source": [
    "Проверьте своё решение"
   ]
  },
  {
   "cell_type": "code",
   "metadata": {
    "id": "Ewy_ZNYqW5a2",
    "colab": {
     "base_uri": "https://localhost:8080/",
     "height": 356
    },
    "outputId": "327b5902-c058-429d-bd94-999f18c5ccb8",
    "ExecuteTime": {
     "end_time": "2025-02-26T17:53:48.389717Z",
     "start_time": "2025-02-26T17:53:48.381350Z"
    }
   },
   "source": [
    "# CHECK THE SOLUTION\n",
    "reference_solution = np.matmul(small_mat, big_mat)\n",
    "solution = MapReduce(RECORDREADER, MAP, REDUCE)\n",
    "\n",
    "\n",
    "def asmatrix(reduce_output):\n",
    "    reduce_output = list(reduce_output)\n",
    "    I = max(i for ((i, k), vw) in reduce_output) + 1\n",
    "    K = max(k for ((i, k), vw) in reduce_output) + 1\n",
    "    mat = np.empty(shape=(I, K))\n",
    "    for ((i, k), vw) in reduce_output:\n",
    "        mat[i, k] = vw\n",
    "    return mat\n",
    "\n",
    "\n",
    "np.allclose(reference_solution, asmatrix(solution))  # should return true"
   ],
   "outputs": [
    {
     "data": {
      "text/plain": [
       "True"
      ]
     },
     "execution_count": 260,
     "metadata": {},
     "output_type": "execute_result"
    }
   ],
   "execution_count": 260
  },
  {
   "cell_type": "code",
   "metadata": {
    "id": "TK7v4CEcfxqf",
    "ExecuteTime": {
     "end_time": "2025-02-26T17:53:58.627216Z",
     "start_time": "2025-02-26T17:53:58.619241Z"
    }
   },
   "source": [
    "reduce_output = list(MapReduce(RECORDREADER, MAP, REDUCE))\n",
    "max(i for ((i, k), vw) in reduce_output)"
   ],
   "outputs": [
    {
     "data": {
      "text/plain": [
       "1"
      ]
     },
     "execution_count": 261,
     "metadata": {},
     "output_type": "execute_result"
    }
   ],
   "execution_count": 261
  },
  {
   "cell_type": "markdown",
   "metadata": {
    "id": "i4yyg3kOZqJJ"
   },
   "source": [
    "Реализуйте перемножение матриц  с использованием модельного кода MapReduce для одной машины в случае, когда обе матрицы генерируются в RECORDREADER. Например, сначала одна, а потом другая."
   ]
  },
  {
   "cell_type": "code",
   "metadata": {
    "id": "3B7rIAJCaHZq",
    "ExecuteTime": {
     "end_time": "2025-02-26T17:55:38.647283Z",
     "start_time": "2025-02-26T17:55:38.638317Z"
    }
   },
   "source": [
    "I = 2\n",
    "J = 3\n",
    "K = 4 * 10\n",
    "small_mat = np.random.rand(I, J)\n",
    "big_mat = np.random.rand(J, K)\n",
    "\n",
    "\n",
    "def MAP(m1, m2):\n",
    "    (i, j), v1 = m1\n",
    "    (j, k), v2 = m2\n",
    "    yield (i, k), v1 * v2\n",
    "\n",
    "\n",
    "def REDUCE(key, values):\n",
    "    (i, k) = key\n",
    "    yield (i, k), sum(values)\n",
    "\n",
    "\n",
    "def RECORDREADER():\n",
    "    for i in range(I):\n",
    "        for j in range(J):\n",
    "            for k in range(K):\n",
    "                yield ((i, j), small_mat[i, j]), ((j, k), big_mat[j, k])\n",
    "\n",
    "\n",
    "reference_solution = np.matmul(small_mat, big_mat)\n",
    "solution = MapReduce(RECORDREADER, MAP, REDUCE)\n",
    "\n",
    "\n",
    "def asmatrix(reduce_output):\n",
    "    reduce_output = list(reduce_output)\n",
    "    I = max(i for ((i, k), vw) in reduce_output) + 1\n",
    "    K = max(k for ((i, k), vw) in reduce_output) + 1\n",
    "    mat = np.empty(shape=(I, K))\n",
    "    for (i, k), vw in reduce_output:\n",
    "        mat[i, k] = vw\n",
    "    return mat\n",
    "\n",
    "\n",
    "np.allclose(reference_solution, asmatrix(solution))"
   ],
   "outputs": [
    {
     "data": {
      "text/plain": [
       "True"
      ]
     },
     "execution_count": 262,
     "metadata": {},
     "output_type": "execute_result"
    }
   ],
   "execution_count": 262
  },
  {
   "cell_type": "markdown",
   "metadata": {
    "id": "mXyzQi1DaIwo"
   },
   "source": [
    "Реализуйте перемножение матриц с использованием модельного кода MapReduce Distributed, когда каждая матрица генерируется в своём RECORDREADER."
   ]
  },
  {
   "cell_type": "code",
   "metadata": {
    "id": "TDM_s78Rb5eR",
    "ExecuteTime": {
     "end_time": "2025-02-26T17:56:28.497913Z",
     "start_time": "2025-02-26T17:56:28.487388Z"
    }
   },
   "source": [
    "maps = 2\n",
    "reducers = 2\n",
    "\n",
    "\n",
    "def INPUTFORMAT():\n",
    "    global maps\n",
    "\n",
    "    def RECORDREADER(i_range):\n",
    "        for i in i_range:\n",
    "            for j in range(J):\n",
    "                for k in range(K):\n",
    "                    yield ((i, j), small_mat[i, j]), ((j, k), big_mat[j, k])\n",
    "\n",
    "    split_size = int(np.ceil(I / maps))\n",
    "    for i in range(0, I, split_size):\n",
    "        yield RECORDREADER(range(i, i + split_size))\n",
    "\n",
    "\n",
    "def MAP(m1, m2):\n",
    "    (i, j), v1 = m1\n",
    "    (j, k), v2 = m2\n",
    "    yield (i, k), v1 * v2\n",
    "\n",
    "\n",
    "def REDUCE(key, values):\n",
    "    (i, k) = key\n",
    "    yield (i, k), sum(values)\n",
    "\n",
    "\n",
    "partitioned_output = MapReduceDistributed(INPUTFORMAT, MAP, REDUCE, COMBINER=None)\n",
    "partitioned_output = [(partition_id, list(partition)) for (partition_id, partition) in partitioned_output]\n",
    "\n",
    "solution = []\n",
    "for output_part in partitioned_output:\n",
    "    for element in output_part[1]:\n",
    "        solution += [element]\n",
    "\n",
    "print(asmatrix(solution))\n",
    "np.allclose(reference_solution, asmatrix(solution))  # should return true"
   ],
   "outputs": [
    {
     "name": "stdout",
     "output_type": "stream",
     "text": [
      "240 key-value pairs were sent over a network.\n",
      "[[0.79561997 1.76493894 0.64161973 0.5041523  1.00149622 1.36946019\n",
      "  1.6657596  1.67684697 1.29678977 1.26179231 0.99762795 1.63638186\n",
      "  0.80223519 1.26389222 0.59498962 0.30654319 0.24800222 1.43435657\n",
      "  0.77081349 0.89021331 0.85760739 1.06014117 1.28494319 1.77366639\n",
      "  0.9101468  0.73594699 1.51365778 1.00520778 0.82159279 0.65528844\n",
      "  1.07558216 0.97900933 1.36028928 1.36315073 1.33392974 0.57602444\n",
      "  1.40573241 1.74023166 1.32307561 1.45752511]\n",
      " [0.57458361 1.37150452 0.58469603 0.36235124 0.58593613 1.03700091\n",
      "  1.29073957 1.15821754 0.99101005 0.96590285 0.72813583 1.13929648\n",
      "  0.5384187  0.9443644  0.47647917 0.23232637 0.21749929 0.84788995\n",
      "  0.81540592 0.6603552  0.76859747 0.71603044 1.11733862 1.39935156\n",
      "  0.7554922  0.69028795 1.24364525 0.92388323 0.55132685 0.42455825\n",
      "  0.77442997 0.76942484 1.08462813 0.96732408 1.23670656 0.55486952\n",
      "  0.99184442 1.4346397  1.05144771 1.20605221]]\n"
     ]
    },
    {
     "data": {
      "text/plain": [
       "True"
      ]
     },
     "execution_count": 263,
     "metadata": {},
     "output_type": "execute_result"
    }
   ],
   "execution_count": 263
  },
  {
   "cell_type": "markdown",
   "metadata": {
    "id": "ZuSA2P9Db6UM"
   },
   "source": [
    "Обобщите предыдущее решение на случай, когда каждая матрица генерируется несколькими RECORDREADER-ами, и проверьте его работоспособность. Будет ли работать решение, если RECORDREADER-ы будут генерировать случайное подмножество элементов матрицы?"
   ]
  },
  {
   "cell_type": "code",
   "metadata": {
    "id": "ehN0FqRDcwU5"
   },
   "source": "Да, так как генерируемые элементы идентифицируются индексами матрицы",
   "execution_count": null,
   "outputs": []
  }
 ]
}
